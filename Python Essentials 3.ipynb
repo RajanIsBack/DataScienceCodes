{
 "cells": [
  {
   "cell_type": "markdown",
   "id": "b7aa2c05",
   "metadata": {
    "id": "b7aa2c05"
   },
   "source": [
    "# LOOPS"
   ]
  },
  {
   "cell_type": "markdown",
   "id": "c626ed9d",
   "metadata": {
    "id": "c626ed9d"
   },
   "source": [
    "## While Loop:"
   ]
  },
  {
   "cell_type": "raw",
   "id": "f55d20ee",
   "metadata": {
    "id": "f55d20ee"
   },
   "source": [
    "In python, while loop is used to execute a block of statements \n",
    "repeatedly until a given a condition is satisfied. \n",
    "And when the condition becomes false, the line immediately \n",
    "after the loop in program is executed."
   ]
  },
  {
   "cell_type": "code",
   "execution_count": null,
   "id": "03357265",
   "metadata": {
    "id": "03357265"
   },
   "outputs": [],
   "source": [
    "# Simple while loop \n",
    "i=1\n",
    "while i<6:\n",
    "    print('While condition is true',i)\n",
    "    i+=1"
   ]
  },
  {
   "cell_type": "code",
   "execution_count": null,
   "id": "3ae310d7",
   "metadata": {
    "id": "3ae310d7"
   },
   "outputs": [],
   "source": [
    "i=1\n",
    "while i<6:\n",
    "    print('While condition is true',i)\n",
    "    i+=1\n",
    "print(i)"
   ]
  },
  {
   "cell_type": "code",
   "execution_count": null,
   "id": "1d3818fc",
   "metadata": {
    "id": "1d3818fc"
   },
   "outputs": [],
   "source": [
    "# While loop with break.\n",
    "#It is used to stop loop even if while condition is true\n",
    "i=1\n",
    "while i<6:\n",
    "    print(i)\n",
    "    if i==3:\n",
    "        break\n",
    "    i+=1\n",
    "    "
   ]
  },
  {
   "cell_type": "code",
   "execution_count": null,
   "id": "1a240bae",
   "metadata": {
    "id": "1a240bae"
   },
   "outputs": [],
   "source": [
    "# While loop with continue statement.\n",
    "i=0\n",
    "while i<6:\n",
    "    i+=1\n",
    "    if i==3:\n",
    "        continue\n",
    "        \n",
    "    print(i)"
   ]
  },
  {
   "cell_type": "code",
   "execution_count": null,
   "id": "379d5289",
   "metadata": {
    "id": "379d5289"
   },
   "outputs": [],
   "source": [
    "# While loop with else statement.\n",
    "i=7\n",
    "while i <6:\n",
    "    print(i)\n",
    "    i+=1\n",
    "else:\n",
    "    print('While loop condition is false')"
   ]
  },
  {
   "cell_type": "code",
   "execution_count": null,
   "id": "48b9149e",
   "metadata": {
    "id": "48b9149e"
   },
   "outputs": [],
   "source": [
    "count = 1\n",
    "while (count < 3):   \n",
    "    count = count + 1\n",
    "    print(\"Data science\")"
   ]
  },
  {
   "cell_type": "markdown",
   "id": "a5a173b3",
   "metadata": {
    "id": "a5a173b3"
   },
   "source": [
    "# FOR LOOP\n"
   ]
  },
  {
   "cell_type": "raw",
   "id": "2ece8894",
   "metadata": {
    "id": "2ece8894"
   },
   "source": [
    "Python for loops are used to loop through an iterable object\n",
    "(like a list, tuple, set, etc.) and perform the same action for each \n",
    "item/element. "
   ]
  },
  {
   "cell_type": "code",
   "execution_count": null,
   "id": "3c72273a",
   "metadata": {
    "id": "3c72273a"
   },
   "outputs": [],
   "source": [
    "l=[1,2,3,4,5,6,7,8,9,0,12,34,55]\n",
    "for c in l:\n",
    "    print(c)"
   ]
  },
  {
   "cell_type": "code",
   "execution_count": null,
   "id": "f2a1ad9e",
   "metadata": {
    "id": "f2a1ad9e"
   },
   "outputs": [],
   "source": [
    "fruits=['Apple','Banana','Mango','Watermelon']\n",
    "for i in fruits:\n",
    "    print(i)"
   ]
  },
  {
   "cell_type": "code",
   "execution_count": null,
   "id": "3e009e99",
   "metadata": {
    "id": "3e009e99"
   },
   "outputs": [],
   "source": [
    "s='This is data science course'\n",
    "for i in s:\n",
    "    print(i)"
   ]
  },
  {
   "cell_type": "code",
   "execution_count": null,
   "id": "8b29b31c",
   "metadata": {
    "id": "8b29b31c"
   },
   "outputs": [],
   "source": [
    "## Range function\n",
    "for i in range(1,10): \n",
    "# range is a generator function which \n",
    "#yields numbers from specified start to end point\n",
    "    print(i)"
   ]
  },
  {
   "cell_type": "code",
   "execution_count": null,
   "id": "599af1d8",
   "metadata": {
    "id": "599af1d8"
   },
   "outputs": [],
   "source": [
    "for i in range(0,20,2): \n",
    "    # lower limit,upper limit,step\n",
    "    print(i)"
   ]
  },
  {
   "cell_type": "code",
   "execution_count": null,
   "id": "be482593",
   "metadata": {
    "id": "be482593"
   },
   "outputs": [],
   "source": [
    "# Nested loops\n",
    "list1=['Maths','Science','Geo','Eco','Social']\n",
    "list2=[78,90,70,56,90]"
   ]
  },
  {
   "cell_type": "code",
   "execution_count": null,
   "id": "836a32d0",
   "metadata": {
    "id": "836a32d0"
   },
   "outputs": [],
   "source": [
    "for i in list1: # Outer loop\n",
    "    for k in list2: # inner loop\n",
    "        print(i,k)"
   ]
  },
  {
   "cell_type": "code",
   "execution_count": null,
   "id": "bc997ca8",
   "metadata": {
    "id": "bc997ca8"
   },
   "outputs": [],
   "source": [
    "a=['red','blue','green']\n",
    "b=['Apple','Banana','Orange']\n",
    "for i in a: ## outer loop\n",
    "    for h in b: ## inner loop\n",
    "        print(i,h)"
   ]
  },
  {
   "cell_type": "code",
   "execution_count": null,
   "id": "9147886f",
   "metadata": {
    "id": "9147886f"
   },
   "outputs": [],
   "source": [
    "l = [34,66,43,23,27,88,74,16]"
   ]
  },
  {
   "cell_type": "code",
   "execution_count": null,
   "id": "e1249b26",
   "metadata": {
    "id": "e1249b26"
   },
   "outputs": [],
   "source": [
    "for c in l:\n",
    "    if(c%2==0):\n",
    "        print(c,'is even')\n",
    "    else:\n",
    "        print(c,'is odd')"
   ]
  },
  {
   "cell_type": "code",
   "execution_count": null,
   "id": "e92fc537",
   "metadata": {
    "id": "e92fc537"
   },
   "outputs": [],
   "source": [
    "city = ['bangalore', 'Mumbai',  'Pune']"
   ]
  },
  {
   "cell_type": "code",
   "execution_count": null,
   "id": "bdc52900",
   "metadata": {
    "id": "bdc52900"
   },
   "outputs": [],
   "source": [
    "for index in range(len(city)): \n",
    "    print('Current city :', city[index])\n",
    "\n",
    "print(\"Good bye!\")"
   ]
  },
  {
   "cell_type": "markdown",
   "id": "27b23a5e",
   "metadata": {
    "id": "27b23a5e"
   },
   "source": [
    "# Function"
   ]
  },
  {
   "cell_type": "raw",
   "id": "a0398f55",
   "metadata": {
    "id": "72f1d78b"
   },
   "source": [
    "A function is a block of organized code written to carry out a specified task.\n",
    "\n",
    "Functions help break our program into smaller and modular chunks for better readability. Information can be passed into a function as arguments.\n",
    "\n",
    "Parameters are specified after the function name inside the parentheses.\n",
    "\n",
    "We can add as many parameters as we want. Parameters must be separated with a comma. A function may or may not return data.\n",
    "\n",
    "In Python a function is defined using the def keyword\n"
   ]
  },
  {
   "cell_type": "markdown",
   "id": "b7c9fddd",
   "metadata": {
    "id": "b7c9fddd"
   },
   "source": [
    "## Parameter VS Argument"
   ]
  },
  {
   "cell_type": "raw",
   "id": "df415297",
   "metadata": {
    "id": "df415297"
   },
   "source": [
    "A parameter is the variable listed inside the parentheses in the function definition. An argument is the value that is sent to the function when it is called."
   ]
  },
  {
   "cell_type": "markdown",
   "id": "d5ca03dc",
   "metadata": {
    "id": "d5ca03dc"
   },
   "source": [
    "## Three types of functions in Python:-\n",
    " \n",
    "1) Built-in function :- Python predefined functions that are readily available for use like min() , max() , sum() , print() etc.\n",
    "\n",
    "2) User-Defined Functions:- Function that we define ourselves to perform a specific task.\n",
    "\n",
    "3) Anonymous functions : Function that is defined without a name. Anonymous functions are also called as lambda functions. They are not declared with the def keyword.\n"
   ]
  },
  {
   "cell_type": "markdown",
   "id": "692c41b2",
   "metadata": {
    "id": "692c41b2"
   },
   "source": [
    "1) Python Function with no argument and no return value.\n",
    "\n",
    "2) Function with no argument and with a Return value.\n",
    "\n",
    "\n",
    "3) Python Function with argument and No Return value.\n",
    "\n",
    "4) Function with argument and return value."
   ]
  },
  {
   "cell_type": "code",
   "execution_count": null,
   "id": "9275a626",
   "metadata": {
    "id": "9275a626"
   },
   "outputs": [],
   "source": [
    "#  Syntax Definition of function\n",
    "def name_of_function():\n",
    "    print('Hello')"
   ]
  },
  {
   "cell_type": "code",
   "execution_count": null,
   "id": "097d047d",
   "metadata": {
    "id": "097d047d"
   },
   "outputs": [],
   "source": [
    "# Syntax Calling the function\n",
    "name_of_function(45)"
   ]
  },
  {
   "cell_type": "code",
   "execution_count": null,
   "id": "61384a05",
   "metadata": {
    "id": "61384a05"
   },
   "outputs": [],
   "source": [
    "## create a function with name as your name \n",
    "##and which print your name"
   ]
  },
  {
   "cell_type": "code",
   "execution_count": null,
   "id": "25a5dfcf",
   "metadata": {
    "id": "25a5dfcf"
   },
   "outputs": [],
   "source": [
    "def area_of_circle(r):\n",
    "    area=3.14*r*r\n",
    "    print(area)"
   ]
  },
  {
   "cell_type": "code",
   "execution_count": null,
   "id": "be24ecee",
   "metadata": {
    "id": "be24ecee"
   },
   "outputs": [],
   "source": [
    "area_of_circle(2)"
   ]
  },
  {
   "cell_type": "code",
   "execution_count": null,
   "id": "1692d537",
   "metadata": {
    "id": "1692d537"
   },
   "outputs": [],
   "source": [
    "def perimeter_of_square(side):\n",
    "    peri=4*side\n",
    "    print(peri)"
   ]
  },
  {
   "cell_type": "code",
   "execution_count": null,
   "id": "33daad53",
   "metadata": {
    "id": "33daad53"
   },
   "outputs": [],
   "source": [
    "side=4\n",
    "side=5"
   ]
  },
  {
   "cell_type": "code",
   "execution_count": null,
   "id": "155e3494",
   "metadata": {
    "id": "155e3494"
   },
   "outputs": [],
   "source": [
    "perimeter_of_square(5)"
   ]
  },
  {
   "cell_type": "code",
   "execution_count": null,
   "id": "25378a29",
   "metadata": {
    "id": "25378a29"
   },
   "outputs": [],
   "source": [
    "def rectangle(l,b):\n",
    "    area=l*b\n",
    "    return area"
   ]
  },
  {
   "cell_type": "code",
   "execution_count": null,
   "id": "ccea62a7",
   "metadata": {
    "id": "ccea62a7"
   },
   "outputs": [],
   "source": [
    "rectangle(1,2)"
   ]
  },
  {
   "cell_type": "code",
   "execution_count": null,
   "id": "f0561ecf",
   "metadata": {
    "id": "f0561ecf"
   },
   "outputs": [],
   "source": [
    "def  details(name,userid,country):  \n",
    "    #  Function  to  print  User  details\n",
    "    print('Name :- ', name)\n",
    "    print('User ID is :- ', userid) \n",
    "    print('Country  :-  ',country)"
   ]
  },
  {
   "cell_type": "code",
   "execution_count": null,
   "id": "d151795a",
   "metadata": {
    "id": "d151795a"
   },
   "outputs": [],
   "source": [
    "details('Data', 'Data123' , 'India')"
   ]
  },
  {
   "cell_type": "code",
   "execution_count": null,
   "id": "b5224979",
   "metadata": {
    "id": "b5224979"
   },
   "outputs": [],
   "source": [
    "Task:-Write function to get a number from users and check \n",
    "whether given number is odd or even"
   ]
  },
  {
   "cell_type": "code",
   "execution_count": null,
   "id": "79ae1ef8",
   "metadata": {
    "id": "79ae1ef8"
   },
   "outputs": [],
   "source": [
    "number()"
   ]
  },
  {
   "cell_type": "code",
   "execution_count": null,
   "id": "3c17778f",
   "metadata": {
    "id": "3c17778f"
   },
   "outputs": [],
   "source": [
    "def evenorodd():\n",
    "    a=int(input('Enter your number'))\n",
    "    if a%2==0:\n",
    "        print('The number is even')\n",
    "    else:\n",
    "        print('The number is odd')"
   ]
  },
  {
   "cell_type": "code",
   "execution_count": null,
   "id": "60c941ee",
   "metadata": {
    "id": "60c941ee"
   },
   "outputs": [],
   "source": [
    "evenorodd()"
   ]
  },
  {
   "cell_type": "code",
   "execution_count": null,
   "id": "6bcf8445",
   "metadata": {
    "id": "6bcf8445"
   },
   "outputs": [],
   "source": [
    "##Python Function with no argument and no return value\n",
    "\n",
    "def noargument():\n",
    "    print()\n",
    "    "
   ]
  },
  {
   "cell_type": "code",
   "execution_count": null,
   "id": "c5fc7ca1",
   "metadata": {
    "id": "c5fc7ca1"
   },
   "outputs": [],
   "source": [
    "noargument(4)"
   ]
  },
  {
   "cell_type": "code",
   "execution_count": null,
   "id": "5c10ef4e",
   "metadata": {
    "id": "5c10ef4e"
   },
   "outputs": [],
   "source": [
    "## Function with no argument and with a Return value\n",
    "def argu():\n",
    "    print('This is no argument but return value function')"
   ]
  },
  {
   "cell_type": "code",
   "execution_count": null,
   "id": "92185096",
   "metadata": {
    "id": "92185096"
   },
   "outputs": [],
   "source": [
    "argu(6)"
   ]
  },
  {
   "cell_type": "code",
   "execution_count": null,
   "id": "0fa1ca02",
   "metadata": {
    "id": "0fa1ca02"
   },
   "outputs": [],
   "source": [
    "##Python Function with argument and No Return value\n",
    "\n",
    "def noreturn(a): ## a is parameter or input to the function\n",
    "    print()"
   ]
  },
  {
   "cell_type": "code",
   "execution_count": null,
   "id": "5c440c57",
   "metadata": {
    "id": "5c440c57"
   },
   "outputs": [],
   "source": [
    "noreturn(6)"
   ]
  },
  {
   "cell_type": "markdown",
   "id": "7c6930aa",
   "metadata": {},
   "source": [
    "### Docstrings:\n",
    "1)\tDocstrings provide a convenient way of associating documentation with functions, \n",
    "classes, methods or modules.\n",
    "\n",
    "2)\tThey appear right after the definition of a function, method, class, or module.\n"
   ]
  },
  {
   "cell_type": "code",
   "execution_count": null,
   "id": "186a3c97",
   "metadata": {
    "id": "186a3c97"
   },
   "outputs": [],
   "source": [
    "## Function with argument and return value\n",
    "def squareofnum(a):\n",
    "    '''Square Function :- This function will return the square of a number'''\n",
    "    return a**2"
   ]
  },
  {
   "cell_type": "code",
   "execution_count": null,
   "id": "a4e55d11",
   "metadata": {
    "id": "a4e55d11",
    "scrolled": true
   },
   "outputs": [],
   "source": [
    "squareofnum(10)"
   ]
  },
  {
   "cell_type": "code",
   "execution_count": null,
   "id": "0e1642a3",
   "metadata": {
    "id": "0e1642a3"
   },
   "outputs": [],
   "source": [
    "q=squareofnum(10)"
   ]
  },
  {
   "cell_type": "code",
   "execution_count": null,
   "id": "4611cea0",
   "metadata": {
    "id": "4611cea0"
   },
   "outputs": [],
   "source": [
    "print(q)"
   ]
  },
  {
   "cell_type": "code",
   "execution_count": null,
   "id": "4f4e3d11",
   "metadata": {
    "id": "4f4e3d11"
   },
   "outputs": [],
   "source": [
    "print(squareofnum.__doc__)"
   ]
  },
  {
   "cell_type": "code",
   "execution_count": null,
   "id": "ac1bddde",
   "metadata": {
    "id": "ac1bddde"
   },
   "outputs": [],
   "source": [
    "Area of circle,perimeter of circle,perimeter of rectangle and square"
   ]
  },
  {
   "cell_type": "code",
   "execution_count": null,
   "id": "a097ac01",
   "metadata": {
    "id": "a097ac01"
   },
   "outputs": [],
   "source": [
    "def areaofcircle():\n",
    "    r=float(input('Enter radius:'))\n",
    "    return 3.14*r*r"
   ]
  },
  {
   "cell_type": "code",
   "execution_count": null,
   "id": "2648c462",
   "metadata": {
    "id": "2648c462"
   },
   "outputs": [],
   "source": [
    "areaofcircle()"
   ]
  },
  {
   "cell_type": "markdown",
   "id": "1e2b84f0",
   "metadata": {
    "id": "1e2b84f0"
   },
   "source": [
    "## Lambda\n",
    "\n",
    " 1) A lambda function is an anonymous function (function without a name).\n",
    "\n",
    " 2) Lambda functions can have any number of arguments but only one expression. \n",
    " The expression is evaluated and returned.\n",
    "\n",
    " 3) We use lambda functions when we require a nameless function for a short period of time.\n"
   ]
  },
  {
   "cell_type": "markdown",
   "id": "8304ef24",
   "metadata": {
    "id": "8304ef24"
   },
   "source": [
    "![image.png](attachment:image.png)"
   ]
  },
  {
   "cell_type": "code",
   "execution_count": null,
   "id": "c5b1a578",
   "metadata": {
    "id": "c5b1a578"
   },
   "outputs": [],
   "source": [
    "addition = lambda  a : a  + 10\t\n",
    "# This lambda function adds value 10 to an argumentb"
   ]
  },
  {
   "cell_type": "code",
   "execution_count": null,
   "id": "270aa315",
   "metadata": {
    "id": "270aa315"
   },
   "outputs": [],
   "source": [
    "print(addition(8))"
   ]
  },
  {
   "cell_type": "code",
   "execution_count": null,
   "id": "4c661fb0",
   "metadata": {
    "id": "4c661fb0"
   },
   "outputs": [],
   "source": [
    "product  =  lambda  a,  b  :  a  *  b  \n",
    "#This  lambda  function  takes  two  arguments  (a,b)  \n",
    "#and do the multiplication\n",
    "print(product(5,  6))\n"
   ]
  },
  {
   "cell_type": "markdown",
   "id": "b49795bf",
   "metadata": {
    "id": "b49795bf"
   },
   "source": [
    "## Filter Function\n",
    "\n"
   ]
  },
  {
   "cell_type": "raw",
   "id": "6e9d5c6f",
   "metadata": {
    "id": "6e9d5c6f"
   },
   "source": [
    "The filter() method filters the given sequence with the help of a function that tests each element in the sequence to be true or not."
   ]
  },
  {
   "cell_type": "code",
   "execution_count": null,
   "id": "08c7354c",
   "metadata": {
    "id": "08c7354c",
    "outputId": "7fe19fc6-dee1-488d-9042-e70a86422a9d"
   },
   "outputs": [
    {
     "name": "stdout",
     "output_type": "stream",
     "text": [
      "[1, 3, 5, 13]\n",
      "[0, 2, 8]\n"
     ]
    }
   ],
   "source": [
    "# a list contains both even and odd numbers. \n",
    "seq = [0, 1, 2, 3, 5, 8, 13]\n",
    "  \n",
    "# result contains odd numbers of the list\n",
    "result = filter(lambda x: x % 2 != 0, seq)\n",
    "print(list(result))\n",
    "  \n",
    "# result contains even numbers of the list\n",
    "result = filter(lambda x: x % 2 == 0, seq)\n",
    "print(list(result))"
   ]
  },
  {
   "cell_type": "markdown",
   "id": "4eb23853",
   "metadata": {
    "id": "4eb23853"
   },
   "source": [
    "## Map Function"
   ]
  },
  {
   "cell_type": "raw",
   "id": "3c233d8d",
   "metadata": {
    "id": "3c233d8d"
   },
   "source": [
    "map() function returns a map object(which is an iterator) of the results \n",
    "after applying the given function to each item of a given \n",
    "iterable (list, tuple etc.)\n",
    "\n"
   ]
  },
  {
   "cell_type": "code",
   "execution_count": null,
   "id": "6f118feb",
   "metadata": {
    "id": "6f118feb",
    "outputId": "00e5d4ed-bd17-4ee0-9c92-768c7190f27d"
   },
   "outputs": [
    {
     "name": "stdout",
     "output_type": "stream",
     "text": [
      "[2, 4, 6, 8]\n"
     ]
    }
   ],
   "source": [
    "# Return double of n\n",
    "def addition(n):\n",
    "    return n + n\n",
    "  \n",
    "# We double all numbers using map()\n",
    "numbers = (1, 2, 3, 4)\n",
    "result = map(addition, numbers)\n",
    "print(list(result))"
   ]
  },
  {
   "cell_type": "code",
   "execution_count": null,
   "id": "9b787705",
   "metadata": {
    "id": "9b787705"
   },
   "outputs": [],
   "source": [
    "# Double all numbers using map and lambda\n",
    "  numbers = (1, 2, 3, 4)\n",
    "result = map(lambda x: x + x, numbers)\n",
    "print(list(result))"
   ]
  },
  {
   "cell_type": "code",
   "execution_count": null,
   "id": "5eb98f56",
   "metadata": {
    "id": "5eb98f56"
   },
   "outputs": [],
   "source": [
    "print(list(result))"
   ]
  },
  {
   "cell_type": "code",
   "execution_count": null,
   "id": "bd187431",
   "metadata": {
    "id": "bd187431",
    "outputId": "e0e291d1-09fd-4733-a33e-e6350c426e89"
   },
   "outputs": [
    {
     "name": "stdout",
     "output_type": "stream",
     "text": [
      "[5, 7, 9]\n"
     ]
    }
   ],
   "source": [
    "# Add two lists using map and lambda\n",
    "  \n",
    "numbers1 = [1, 2, 3]\n",
    "numbers2 = [4, 5, 6]\n",
    "  \n",
    "result = map(lambda x, y: x + y, numbers1, numbers2)\n",
    "print(list(result))"
   ]
  },
  {
   "cell_type": "code",
   "execution_count": null,
   "id": "92d8a52a",
   "metadata": {
    "id": "92d8a52a",
    "outputId": "cb0dc86b-654c-439b-c379-a40bd7c0b8d1"
   },
   "outputs": [
    {
     "name": "stdout",
     "output_type": "stream",
     "text": [
      "[['s', 'a', 't'], ['b', 'a', 't'], ['c', 'a', 't'], ['m', 'a', 't']]\n"
     ]
    }
   ],
   "source": [
    "# List of strings\n",
    "l = ['sat', 'bat', 'cat', 'mat']\n",
    "  \n",
    "# map() can listify the list of strings individually\n",
    "test = list(map(list, l))\n",
    "print(test)"
   ]
  },
  {
   "cell_type": "markdown",
   "id": "74baea00",
   "metadata": {
    "id": "74baea00"
   },
   "source": [
    "## Reduce Function"
   ]
  },
  {
   "cell_type": "raw",
   "id": "c01df593",
   "metadata": {
    "id": "c01df593"
   },
   "source": [
    "The reduce(fun,seq) function is used to apply a particular function passed in\n",
    "its argument to all of the list elements mentioned in the sequence passed \n",
    "along.This function is defined in “functools” module."
   ]
  },
  {
   "cell_type": "code",
   "execution_count": null,
   "id": "467efe2d",
   "metadata": {
    "id": "467efe2d",
    "outputId": "3f8a2eb2-7fc2-47a9-d45e-d8d0b43a5b50"
   },
   "outputs": [
    {
     "name": "stdout",
     "output_type": "stream",
     "text": [
      "The sum of the list elements is : 17\n"
     ]
    }
   ],
   "source": [
    "# importing functools for reduce()\n",
    "import functools\n",
    " \n",
    "# initializing list\n",
    "lis = [1, 3, 5, 6, 2]\n",
    " \n",
    "# using reduce to compute sum of list\n",
    "print(\"The sum of the list elements is : \", end=\"\")\n",
    "print(functools.reduce(lambda a, b: a+b, lis))\n",
    " \n"
   ]
  },
  {
   "cell_type": "code",
   "execution_count": null,
   "id": "af273d1f",
   "metadata": {
    "id": "af273d1f",
    "outputId": "c5aec0ea-34d3-410b-d939-c8f982236aec"
   },
   "outputs": [
    {
     "name": "stdout",
     "output_type": "stream",
     "text": [
      "The maximum element of the list is : 6\n"
     ]
    }
   ],
   "source": [
    "# using reduce to compute maximum element from list\n",
    "print(\"The maximum element of the list is : \", end=\"\")\n",
    "print(functools.reduce(lambda a, b: a if a > b else b, lis))\n",
    "\n"
   ]
  },
  {
   "cell_type": "code",
   "execution_count": null,
   "id": "2432c78c-2ed2-4b34-9cd8-2d68a1f6811f",
   "metadata": {},
   "outputs": [],
   "source": [
    "a=[1,2]"
   ]
  },
  {
   "cell_type": "code",
   "execution_count": null,
   "id": "784e323c-3af6-4017-a693-1ba911e6a933",
   "metadata": {},
   "outputs": [],
   "source": []
  }
 ],
 "metadata": {
  "colab": {
   "provenance": []
  },
  "kernelspec": {
   "display_name": "Python 3 (ipykernel)",
   "language": "python",
   "name": "python3"
  },
  "language_info": {
   "codemirror_mode": {
    "name": "ipython",
    "version": 3
   },
   "file_extension": ".py",
   "mimetype": "text/x-python",
   "name": "python",
   "nbconvert_exporter": "python",
   "pygments_lexer": "ipython3",
   "version": "3.11.4"
  }
 },
 "nbformat": 4,
 "nbformat_minor": 5
}
