{
 "cells": [
  {
   "cell_type": "code",
   "execution_count": 3,
   "id": "1c6518d5-6867-4169-96bd-90b3d18ff832",
   "metadata": {},
   "outputs": [],
   "source": [
    "import pandas as pd\n",
    "import numpy as np\n",
    "import seaborn as sns\n",
    "import matplotlib.pyplot as plt\n",
    "%matplotlib inline\n",
    "import warnings\n",
    "warnings.filterwarnings('ignore')\n"
   ]
  },
  {
   "cell_type": "code",
   "execution_count": 4,
   "id": "a0f57815-ea01-48c4-914c-6c5979a6d569",
   "metadata": {},
   "outputs": [],
   "source": [
    "df=pd.read_csv(\"E:/Data Scientist/Datasets/diabetes1.csv\")"
   ]
  },
  {
   "cell_type": "code",
   "execution_count": 5,
   "id": "6df0197b-e690-46bd-a9a9-7b5c52873bc8",
   "metadata": {},
   "outputs": [
    {
     "data": {
      "text/html": [
       "<div>\n",
       "<style scoped>\n",
       "    .dataframe tbody tr th:only-of-type {\n",
       "        vertical-align: middle;\n",
       "    }\n",
       "\n",
       "    .dataframe tbody tr th {\n",
       "        vertical-align: top;\n",
       "    }\n",
       "\n",
       "    .dataframe thead th {\n",
       "        text-align: right;\n",
       "    }\n",
       "</style>\n",
       "<table border=\"1\" class=\"dataframe\">\n",
       "  <thead>\n",
       "    <tr style=\"text-align: right;\">\n",
       "      <th></th>\n",
       "      <th>Pregnancies</th>\n",
       "      <th>Glucose</th>\n",
       "      <th>BloodPressure</th>\n",
       "      <th>SkinThickness</th>\n",
       "      <th>Insulin</th>\n",
       "      <th>BMI</th>\n",
       "      <th>DiabetesPedigreeFunction</th>\n",
       "      <th>Age</th>\n",
       "      <th>Outcome</th>\n",
       "    </tr>\n",
       "  </thead>\n",
       "  <tbody>\n",
       "    <tr>\n",
       "      <th>0</th>\n",
       "      <td>6</td>\n",
       "      <td>148</td>\n",
       "      <td>72</td>\n",
       "      <td>35</td>\n",
       "      <td>0</td>\n",
       "      <td>33.6</td>\n",
       "      <td>0.627</td>\n",
       "      <td>50</td>\n",
       "      <td>1</td>\n",
       "    </tr>\n",
       "    <tr>\n",
       "      <th>1</th>\n",
       "      <td>1</td>\n",
       "      <td>85</td>\n",
       "      <td>66</td>\n",
       "      <td>29</td>\n",
       "      <td>0</td>\n",
       "      <td>26.6</td>\n",
       "      <td>0.351</td>\n",
       "      <td>31</td>\n",
       "      <td>0</td>\n",
       "    </tr>\n",
       "    <tr>\n",
       "      <th>2</th>\n",
       "      <td>8</td>\n",
       "      <td>183</td>\n",
       "      <td>64</td>\n",
       "      <td>0</td>\n",
       "      <td>0</td>\n",
       "      <td>23.3</td>\n",
       "      <td>0.672</td>\n",
       "      <td>32</td>\n",
       "      <td>1</td>\n",
       "    </tr>\n",
       "    <tr>\n",
       "      <th>3</th>\n",
       "      <td>1</td>\n",
       "      <td>89</td>\n",
       "      <td>66</td>\n",
       "      <td>23</td>\n",
       "      <td>94</td>\n",
       "      <td>28.1</td>\n",
       "      <td>0.167</td>\n",
       "      <td>21</td>\n",
       "      <td>0</td>\n",
       "    </tr>\n",
       "    <tr>\n",
       "      <th>4</th>\n",
       "      <td>0</td>\n",
       "      <td>137</td>\n",
       "      <td>40</td>\n",
       "      <td>35</td>\n",
       "      <td>168</td>\n",
       "      <td>43.1</td>\n",
       "      <td>2.288</td>\n",
       "      <td>33</td>\n",
       "      <td>1</td>\n",
       "    </tr>\n",
       "    <tr>\n",
       "      <th>...</th>\n",
       "      <td>...</td>\n",
       "      <td>...</td>\n",
       "      <td>...</td>\n",
       "      <td>...</td>\n",
       "      <td>...</td>\n",
       "      <td>...</td>\n",
       "      <td>...</td>\n",
       "      <td>...</td>\n",
       "      <td>...</td>\n",
       "    </tr>\n",
       "    <tr>\n",
       "      <th>763</th>\n",
       "      <td>10</td>\n",
       "      <td>101</td>\n",
       "      <td>76</td>\n",
       "      <td>48</td>\n",
       "      <td>180</td>\n",
       "      <td>32.9</td>\n",
       "      <td>0.171</td>\n",
       "      <td>63</td>\n",
       "      <td>0</td>\n",
       "    </tr>\n",
       "    <tr>\n",
       "      <th>764</th>\n",
       "      <td>2</td>\n",
       "      <td>122</td>\n",
       "      <td>70</td>\n",
       "      <td>27</td>\n",
       "      <td>0</td>\n",
       "      <td>36.8</td>\n",
       "      <td>0.340</td>\n",
       "      <td>27</td>\n",
       "      <td>0</td>\n",
       "    </tr>\n",
       "    <tr>\n",
       "      <th>765</th>\n",
       "      <td>5</td>\n",
       "      <td>121</td>\n",
       "      <td>72</td>\n",
       "      <td>23</td>\n",
       "      <td>112</td>\n",
       "      <td>26.2</td>\n",
       "      <td>0.245</td>\n",
       "      <td>30</td>\n",
       "      <td>0</td>\n",
       "    </tr>\n",
       "    <tr>\n",
       "      <th>766</th>\n",
       "      <td>1</td>\n",
       "      <td>126</td>\n",
       "      <td>60</td>\n",
       "      <td>0</td>\n",
       "      <td>0</td>\n",
       "      <td>30.1</td>\n",
       "      <td>0.349</td>\n",
       "      <td>47</td>\n",
       "      <td>1</td>\n",
       "    </tr>\n",
       "    <tr>\n",
       "      <th>767</th>\n",
       "      <td>1</td>\n",
       "      <td>93</td>\n",
       "      <td>70</td>\n",
       "      <td>31</td>\n",
       "      <td>0</td>\n",
       "      <td>30.4</td>\n",
       "      <td>0.315</td>\n",
       "      <td>23</td>\n",
       "      <td>0</td>\n",
       "    </tr>\n",
       "  </tbody>\n",
       "</table>\n",
       "<p>768 rows × 9 columns</p>\n",
       "</div>"
      ],
      "text/plain": [
       "     Pregnancies  Glucose  BloodPressure  SkinThickness  Insulin   BMI  \\\n",
       "0              6      148             72             35        0  33.6   \n",
       "1              1       85             66             29        0  26.6   \n",
       "2              8      183             64              0        0  23.3   \n",
       "3              1       89             66             23       94  28.1   \n",
       "4              0      137             40             35      168  43.1   \n",
       "..           ...      ...            ...            ...      ...   ...   \n",
       "763           10      101             76             48      180  32.9   \n",
       "764            2      122             70             27        0  36.8   \n",
       "765            5      121             72             23      112  26.2   \n",
       "766            1      126             60              0        0  30.1   \n",
       "767            1       93             70             31        0  30.4   \n",
       "\n",
       "     DiabetesPedigreeFunction  Age  Outcome  \n",
       "0                       0.627   50        1  \n",
       "1                       0.351   31        0  \n",
       "2                       0.672   32        1  \n",
       "3                       0.167   21        0  \n",
       "4                       2.288   33        1  \n",
       "..                        ...  ...      ...  \n",
       "763                     0.171   63        0  \n",
       "764                     0.340   27        0  \n",
       "765                     0.245   30        0  \n",
       "766                     0.349   47        1  \n",
       "767                     0.315   23        0  \n",
       "\n",
       "[768 rows x 9 columns]"
      ]
     },
     "execution_count": 5,
     "metadata": {},
     "output_type": "execute_result"
    }
   ],
   "source": [
    "df"
   ]
  },
  {
   "cell_type": "markdown",
   "id": "523ce658-cc96-4e44-adec-4f2d8556ed09",
   "metadata": {},
   "source": [
    "# Basic Checks"
   ]
  },
  {
   "cell_type": "code",
   "execution_count": 6,
   "id": "f6dd8b68-34ed-495f-8e61-64201df735f4",
   "metadata": {},
   "outputs": [
    {
     "data": {
      "text/plain": [
       "(768, 9)"
      ]
     },
     "execution_count": 6,
     "metadata": {},
     "output_type": "execute_result"
    }
   ],
   "source": [
    "df.shape"
   ]
  },
  {
   "cell_type": "code",
   "execution_count": 7,
   "id": "e040b6c2-56bc-48e0-a71d-b18e319f476f",
   "metadata": {},
   "outputs": [
    {
     "data": {
      "text/html": [
       "<div>\n",
       "<style scoped>\n",
       "    .dataframe tbody tr th:only-of-type {\n",
       "        vertical-align: middle;\n",
       "    }\n",
       "\n",
       "    .dataframe tbody tr th {\n",
       "        vertical-align: top;\n",
       "    }\n",
       "\n",
       "    .dataframe thead th {\n",
       "        text-align: right;\n",
       "    }\n",
       "</style>\n",
       "<table border=\"1\" class=\"dataframe\">\n",
       "  <thead>\n",
       "    <tr style=\"text-align: right;\">\n",
       "      <th></th>\n",
       "      <th>Pregnancies</th>\n",
       "      <th>Glucose</th>\n",
       "      <th>BloodPressure</th>\n",
       "      <th>SkinThickness</th>\n",
       "      <th>Insulin</th>\n",
       "      <th>BMI</th>\n",
       "      <th>DiabetesPedigreeFunction</th>\n",
       "      <th>Age</th>\n",
       "      <th>Outcome</th>\n",
       "    </tr>\n",
       "  </thead>\n",
       "  <tbody>\n",
       "    <tr>\n",
       "      <th>0</th>\n",
       "      <td>6</td>\n",
       "      <td>148</td>\n",
       "      <td>72</td>\n",
       "      <td>35</td>\n",
       "      <td>0</td>\n",
       "      <td>33.6</td>\n",
       "      <td>0.627</td>\n",
       "      <td>50</td>\n",
       "      <td>1</td>\n",
       "    </tr>\n",
       "    <tr>\n",
       "      <th>1</th>\n",
       "      <td>1</td>\n",
       "      <td>85</td>\n",
       "      <td>66</td>\n",
       "      <td>29</td>\n",
       "      <td>0</td>\n",
       "      <td>26.6</td>\n",
       "      <td>0.351</td>\n",
       "      <td>31</td>\n",
       "      <td>0</td>\n",
       "    </tr>\n",
       "    <tr>\n",
       "      <th>2</th>\n",
       "      <td>8</td>\n",
       "      <td>183</td>\n",
       "      <td>64</td>\n",
       "      <td>0</td>\n",
       "      <td>0</td>\n",
       "      <td>23.3</td>\n",
       "      <td>0.672</td>\n",
       "      <td>32</td>\n",
       "      <td>1</td>\n",
       "    </tr>\n",
       "    <tr>\n",
       "      <th>3</th>\n",
       "      <td>1</td>\n",
       "      <td>89</td>\n",
       "      <td>66</td>\n",
       "      <td>23</td>\n",
       "      <td>94</td>\n",
       "      <td>28.1</td>\n",
       "      <td>0.167</td>\n",
       "      <td>21</td>\n",
       "      <td>0</td>\n",
       "    </tr>\n",
       "    <tr>\n",
       "      <th>4</th>\n",
       "      <td>0</td>\n",
       "      <td>137</td>\n",
       "      <td>40</td>\n",
       "      <td>35</td>\n",
       "      <td>168</td>\n",
       "      <td>43.1</td>\n",
       "      <td>2.288</td>\n",
       "      <td>33</td>\n",
       "      <td>1</td>\n",
       "    </tr>\n",
       "  </tbody>\n",
       "</table>\n",
       "</div>"
      ],
      "text/plain": [
       "   Pregnancies  Glucose  BloodPressure  SkinThickness  Insulin   BMI  \\\n",
       "0            6      148             72             35        0  33.6   \n",
       "1            1       85             66             29        0  26.6   \n",
       "2            8      183             64              0        0  23.3   \n",
       "3            1       89             66             23       94  28.1   \n",
       "4            0      137             40             35      168  43.1   \n",
       "\n",
       "   DiabetesPedigreeFunction  Age  Outcome  \n",
       "0                     0.627   50        1  \n",
       "1                     0.351   31        0  \n",
       "2                     0.672   32        1  \n",
       "3                     0.167   21        0  \n",
       "4                     2.288   33        1  "
      ]
     },
     "execution_count": 7,
     "metadata": {},
     "output_type": "execute_result"
    }
   ],
   "source": [
    "df.head()"
   ]
  },
  {
   "cell_type": "code",
   "execution_count": 8,
   "id": "cdc0849c-7285-4082-a010-2a99bfa36b97",
   "metadata": {},
   "outputs": [
    {
     "data": {
      "text/html": [
       "<div>\n",
       "<style scoped>\n",
       "    .dataframe tbody tr th:only-of-type {\n",
       "        vertical-align: middle;\n",
       "    }\n",
       "\n",
       "    .dataframe tbody tr th {\n",
       "        vertical-align: top;\n",
       "    }\n",
       "\n",
       "    .dataframe thead th {\n",
       "        text-align: right;\n",
       "    }\n",
       "</style>\n",
       "<table border=\"1\" class=\"dataframe\">\n",
       "  <thead>\n",
       "    <tr style=\"text-align: right;\">\n",
       "      <th></th>\n",
       "      <th>Pregnancies</th>\n",
       "      <th>Glucose</th>\n",
       "      <th>BloodPressure</th>\n",
       "      <th>SkinThickness</th>\n",
       "      <th>Insulin</th>\n",
       "      <th>BMI</th>\n",
       "      <th>DiabetesPedigreeFunction</th>\n",
       "      <th>Age</th>\n",
       "      <th>Outcome</th>\n",
       "    </tr>\n",
       "  </thead>\n",
       "  <tbody>\n",
       "    <tr>\n",
       "      <th>763</th>\n",
       "      <td>10</td>\n",
       "      <td>101</td>\n",
       "      <td>76</td>\n",
       "      <td>48</td>\n",
       "      <td>180</td>\n",
       "      <td>32.9</td>\n",
       "      <td>0.171</td>\n",
       "      <td>63</td>\n",
       "      <td>0</td>\n",
       "    </tr>\n",
       "    <tr>\n",
       "      <th>764</th>\n",
       "      <td>2</td>\n",
       "      <td>122</td>\n",
       "      <td>70</td>\n",
       "      <td>27</td>\n",
       "      <td>0</td>\n",
       "      <td>36.8</td>\n",
       "      <td>0.340</td>\n",
       "      <td>27</td>\n",
       "      <td>0</td>\n",
       "    </tr>\n",
       "    <tr>\n",
       "      <th>765</th>\n",
       "      <td>5</td>\n",
       "      <td>121</td>\n",
       "      <td>72</td>\n",
       "      <td>23</td>\n",
       "      <td>112</td>\n",
       "      <td>26.2</td>\n",
       "      <td>0.245</td>\n",
       "      <td>30</td>\n",
       "      <td>0</td>\n",
       "    </tr>\n",
       "    <tr>\n",
       "      <th>766</th>\n",
       "      <td>1</td>\n",
       "      <td>126</td>\n",
       "      <td>60</td>\n",
       "      <td>0</td>\n",
       "      <td>0</td>\n",
       "      <td>30.1</td>\n",
       "      <td>0.349</td>\n",
       "      <td>47</td>\n",
       "      <td>1</td>\n",
       "    </tr>\n",
       "    <tr>\n",
       "      <th>767</th>\n",
       "      <td>1</td>\n",
       "      <td>93</td>\n",
       "      <td>70</td>\n",
       "      <td>31</td>\n",
       "      <td>0</td>\n",
       "      <td>30.4</td>\n",
       "      <td>0.315</td>\n",
       "      <td>23</td>\n",
       "      <td>0</td>\n",
       "    </tr>\n",
       "  </tbody>\n",
       "</table>\n",
       "</div>"
      ],
      "text/plain": [
       "     Pregnancies  Glucose  BloodPressure  SkinThickness  Insulin   BMI  \\\n",
       "763           10      101             76             48      180  32.9   \n",
       "764            2      122             70             27        0  36.8   \n",
       "765            5      121             72             23      112  26.2   \n",
       "766            1      126             60              0        0  30.1   \n",
       "767            1       93             70             31        0  30.4   \n",
       "\n",
       "     DiabetesPedigreeFunction  Age  Outcome  \n",
       "763                     0.171   63        0  \n",
       "764                     0.340   27        0  \n",
       "765                     0.245   30        0  \n",
       "766                     0.349   47        1  \n",
       "767                     0.315   23        0  "
      ]
     },
     "execution_count": 8,
     "metadata": {},
     "output_type": "execute_result"
    }
   ],
   "source": [
    "df.tail()"
   ]
  },
  {
   "cell_type": "code",
   "execution_count": 9,
   "id": "67ddac67-ce90-469c-95c2-2c0aaca0d3b9",
   "metadata": {},
   "outputs": [
    {
     "data": {
      "text/html": [
       "<div>\n",
       "<style scoped>\n",
       "    .dataframe tbody tr th:only-of-type {\n",
       "        vertical-align: middle;\n",
       "    }\n",
       "\n",
       "    .dataframe tbody tr th {\n",
       "        vertical-align: top;\n",
       "    }\n",
       "\n",
       "    .dataframe thead th {\n",
       "        text-align: right;\n",
       "    }\n",
       "</style>\n",
       "<table border=\"1\" class=\"dataframe\">\n",
       "  <thead>\n",
       "    <tr style=\"text-align: right;\">\n",
       "      <th></th>\n",
       "      <th>Pregnancies</th>\n",
       "      <th>Glucose</th>\n",
       "      <th>BloodPressure</th>\n",
       "      <th>SkinThickness</th>\n",
       "      <th>Insulin</th>\n",
       "      <th>BMI</th>\n",
       "      <th>DiabetesPedigreeFunction</th>\n",
       "      <th>Age</th>\n",
       "      <th>Outcome</th>\n",
       "    </tr>\n",
       "  </thead>\n",
       "  <tbody>\n",
       "    <tr>\n",
       "      <th>count</th>\n",
       "      <td>768.000000</td>\n",
       "      <td>768.000000</td>\n",
       "      <td>768.000000</td>\n",
       "      <td>768.000000</td>\n",
       "      <td>768.000000</td>\n",
       "      <td>768.000000</td>\n",
       "      <td>768.000000</td>\n",
       "      <td>768.000000</td>\n",
       "      <td>768.000000</td>\n",
       "    </tr>\n",
       "    <tr>\n",
       "      <th>mean</th>\n",
       "      <td>3.845052</td>\n",
       "      <td>120.894531</td>\n",
       "      <td>69.105469</td>\n",
       "      <td>20.536458</td>\n",
       "      <td>79.799479</td>\n",
       "      <td>31.992578</td>\n",
       "      <td>0.471876</td>\n",
       "      <td>33.240885</td>\n",
       "      <td>0.348958</td>\n",
       "    </tr>\n",
       "    <tr>\n",
       "      <th>std</th>\n",
       "      <td>3.369578</td>\n",
       "      <td>31.972618</td>\n",
       "      <td>19.355807</td>\n",
       "      <td>15.952218</td>\n",
       "      <td>115.244002</td>\n",
       "      <td>7.884160</td>\n",
       "      <td>0.331329</td>\n",
       "      <td>11.760232</td>\n",
       "      <td>0.476951</td>\n",
       "    </tr>\n",
       "    <tr>\n",
       "      <th>min</th>\n",
       "      <td>0.000000</td>\n",
       "      <td>0.000000</td>\n",
       "      <td>0.000000</td>\n",
       "      <td>0.000000</td>\n",
       "      <td>0.000000</td>\n",
       "      <td>0.000000</td>\n",
       "      <td>0.078000</td>\n",
       "      <td>21.000000</td>\n",
       "      <td>0.000000</td>\n",
       "    </tr>\n",
       "    <tr>\n",
       "      <th>25%</th>\n",
       "      <td>1.000000</td>\n",
       "      <td>99.000000</td>\n",
       "      <td>62.000000</td>\n",
       "      <td>0.000000</td>\n",
       "      <td>0.000000</td>\n",
       "      <td>27.300000</td>\n",
       "      <td>0.243750</td>\n",
       "      <td>24.000000</td>\n",
       "      <td>0.000000</td>\n",
       "    </tr>\n",
       "    <tr>\n",
       "      <th>50%</th>\n",
       "      <td>3.000000</td>\n",
       "      <td>117.000000</td>\n",
       "      <td>72.000000</td>\n",
       "      <td>23.000000</td>\n",
       "      <td>30.500000</td>\n",
       "      <td>32.000000</td>\n",
       "      <td>0.372500</td>\n",
       "      <td>29.000000</td>\n",
       "      <td>0.000000</td>\n",
       "    </tr>\n",
       "    <tr>\n",
       "      <th>75%</th>\n",
       "      <td>6.000000</td>\n",
       "      <td>140.250000</td>\n",
       "      <td>80.000000</td>\n",
       "      <td>32.000000</td>\n",
       "      <td>127.250000</td>\n",
       "      <td>36.600000</td>\n",
       "      <td>0.626250</td>\n",
       "      <td>41.000000</td>\n",
       "      <td>1.000000</td>\n",
       "    </tr>\n",
       "    <tr>\n",
       "      <th>max</th>\n",
       "      <td>17.000000</td>\n",
       "      <td>199.000000</td>\n",
       "      <td>122.000000</td>\n",
       "      <td>99.000000</td>\n",
       "      <td>846.000000</td>\n",
       "      <td>67.100000</td>\n",
       "      <td>2.420000</td>\n",
       "      <td>81.000000</td>\n",
       "      <td>1.000000</td>\n",
       "    </tr>\n",
       "  </tbody>\n",
       "</table>\n",
       "</div>"
      ],
      "text/plain": [
       "       Pregnancies     Glucose  BloodPressure  SkinThickness     Insulin  \\\n",
       "count   768.000000  768.000000     768.000000     768.000000  768.000000   \n",
       "mean      3.845052  120.894531      69.105469      20.536458   79.799479   \n",
       "std       3.369578   31.972618      19.355807      15.952218  115.244002   \n",
       "min       0.000000    0.000000       0.000000       0.000000    0.000000   \n",
       "25%       1.000000   99.000000      62.000000       0.000000    0.000000   \n",
       "50%       3.000000  117.000000      72.000000      23.000000   30.500000   \n",
       "75%       6.000000  140.250000      80.000000      32.000000  127.250000   \n",
       "max      17.000000  199.000000     122.000000      99.000000  846.000000   \n",
       "\n",
       "              BMI  DiabetesPedigreeFunction         Age     Outcome  \n",
       "count  768.000000                768.000000  768.000000  768.000000  \n",
       "mean    31.992578                  0.471876   33.240885    0.348958  \n",
       "std      7.884160                  0.331329   11.760232    0.476951  \n",
       "min      0.000000                  0.078000   21.000000    0.000000  \n",
       "25%     27.300000                  0.243750   24.000000    0.000000  \n",
       "50%     32.000000                  0.372500   29.000000    0.000000  \n",
       "75%     36.600000                  0.626250   41.000000    1.000000  \n",
       "max     67.100000                  2.420000   81.000000    1.000000  "
      ]
     },
     "execution_count": 9,
     "metadata": {},
     "output_type": "execute_result"
    }
   ],
   "source": [
    "df.describe()"
   ]
  },
  {
   "cell_type": "markdown",
   "id": "8d9153df-bd6b-489d-9b15-efa990b46e52",
   "metadata": {},
   "source": [
    "1) No missing values\n",
    "2) 0 value not possible for glucose,BP,skin thickness and insulin.This is called as data corruption"
   ]
  },
  {
   "cell_type": "code",
   "execution_count": 10,
   "id": "5af4e995-9bcd-4618-bf20-46a2de386020",
   "metadata": {},
   "outputs": [
    {
     "name": "stdout",
     "output_type": "stream",
     "text": [
      "<class 'pandas.core.frame.DataFrame'>\n",
      "RangeIndex: 768 entries, 0 to 767\n",
      "Data columns (total 9 columns):\n",
      " #   Column                    Non-Null Count  Dtype  \n",
      "---  ------                    --------------  -----  \n",
      " 0   Pregnancies               768 non-null    int64  \n",
      " 1   Glucose                   768 non-null    int64  \n",
      " 2   BloodPressure             768 non-null    int64  \n",
      " 3   SkinThickness             768 non-null    int64  \n",
      " 4   Insulin                   768 non-null    int64  \n",
      " 5   BMI                       768 non-null    float64\n",
      " 6   DiabetesPedigreeFunction  768 non-null    float64\n",
      " 7   Age                       768 non-null    int64  \n",
      " 8   Outcome                   768 non-null    int64  \n",
      "dtypes: float64(2), int64(7)\n",
      "memory usage: 54.1 KB\n"
     ]
    }
   ],
   "source": [
    "df.info()"
   ]
  },
  {
   "cell_type": "markdown",
   "id": "b980c8ab-f743-428a-acc2-59e6ebebc973",
   "metadata": {},
   "source": [
    "# Domain Analysis \n",
    "# Description about the column\n",
    "\n",
    "1)Pregnancies:-Some women have diabetes before they get pregnant. This is called pregestational diabetes. Other women may get a type of diabetes that only happens in pregnancy. This is called gestational diabetes. Pregnancy can change how a woman's body uses glucose. This can make diabetes worse, or lead to gestational diabetes.\n",
    "If you have gestational diabetes during pregnancy, generally your blood sugar returns to its usual level soon after delivery. But if you've had gestational diabetes, you have a higher risk of getting type 2 diabetes. You'll need to be tested for changes in blood sugar more often.\n",
    "The risk of getting diabetes is 28% if the patient has concived more than 2 or 3 times.\n",
    "\n",
    "2)Glucose:-Glucose is your body's source of fuel. Your pancreas makes insulin to move glucose from your bloodstream into muscle, fat, and liver cells, where your body turns it into energy. People with diabetes have too much blood sugar because their body cannot move glucose into fat, liver, and muscle cells to be changed into and stored for energy.\n",
    "\n",
    "3)Blood Pressure:-A person with diabetes is twice as likely to have high blood pressure as someone who does not have diabetes. When you have diabetes, high blood sugar can damage your blood vessels and the nerves that help your heart pump.Similarly, high blood pressure can create increased strain on your heart and blood vessels. When these two conditions occur together, they increase the risk of heart disease (cardiovascular disease) and stroke.\n",
    "High blood pressure:-  According to a 2018 article, people with high blood pressure usually have insulin resistance and have an increased risk of developing diabetes compared to those with typical blood pressure. Blood pressure should be below 140/80mmHg for people with diabetes or below 130/80mmHg if you have kidney or eye disease or any condition that affects blood vessels and blood supply to the brain.\n",
    "\n",
    "4)Skin Thickness:-Skin thickening is frequently observed in patients with diabetes. Affected areas of skin can appear thickened, waxy, or edematous. These patients are often asymptomatic but can have a reduction in sensation and pain. Although different parts of the body can be involved, the hands and feet are most frequently involved.Diabetes can cause changes in the small blood vessels. These changes can cause skin problems called diabetic dermopathy. Dermopathy often looks like light brown, scaly patches. These patches may be oval or circular.\n",
    "\n",
    "5)Insulin:-Insulin is a hormone your pancreas makes to lower blood glucose, or sugar. If you have diabetes, your pancreas either doesn't make enough insulin or your body doesn't respond well to it. Your body needs insulin to keep the blood sugar level in a healthy range.Type 1 diabetes causes damage to the beta cells in your pancreas that make insulin. As a result, your body can't produce enough of this hormone. Type 2 diabetes gradually makes it harder for your be\n",
    "\n",
    "6)BMI:-Body mass index has a strong relationship to diabetes and insulin resistance. In obese individuals, the amount of nonesterified fatty acids, glycerol, hormones, cytokines, proinflammatory markers, and other substances that are involved in the development of insulin resistance, is increased. The pathogenesis in the development of diabetes is based on the fact that the β-islet cells of the pancreas are impaired, causing a lack of control of blood glucose. The development of diabetes becomes more inevitable if the failure of β-islet cells of the pancreas is accompanied by insulin resistance. Weight gain and body mass are central to the formation and rising incidence of type 1 and type 2 diabetes.\n",
    "\n",
    "8)Age:-The prevalence of both type 2 diabetes and prediabetes increases with advancing age. The most important factors leading to hyperglycaemia are as follows: deficiency of insulin secretion developing with age, and growing insulin resistance caused by a change in body composition and sarcopaenia.The process of aging of the human body leads to impairment of energy homeostasis and abnormalities in carbohydrate metabolism. The most important causes of hyperglycaemia are thought to be deficiency of insulin secretion developing with age and growing insulin resistance.\n"
   ]
  },
  {
   "cell_type": "markdown",
   "id": "c662cab0-9093-457b-bd8f-1ac8b1dafda0",
   "metadata": {},
   "source": [
    "# Exploratory Data Analysis"
   ]
  },
  {
   "cell_type": "code",
   "execution_count": 11,
   "id": "d7adb8a0-3c10-45da-9219-cbba044272dd",
   "metadata": {},
   "outputs": [
    {
     "data": {
      "text/html": [
       "<div>\n",
       "<style scoped>\n",
       "    .dataframe tbody tr th:only-of-type {\n",
       "        vertical-align: middle;\n",
       "    }\n",
       "\n",
       "    .dataframe tbody tr th {\n",
       "        vertical-align: top;\n",
       "    }\n",
       "\n",
       "    .dataframe thead th {\n",
       "        text-align: right;\n",
       "    }\n",
       "</style>\n",
       "<table border=\"1\" class=\"dataframe\">\n",
       "  <thead>\n",
       "    <tr style=\"text-align: right;\">\n",
       "      <th></th>\n",
       "      <th>Pregnancies</th>\n",
       "      <th>Glucose</th>\n",
       "      <th>BloodPressure</th>\n",
       "      <th>SkinThickness</th>\n",
       "      <th>Insulin</th>\n",
       "      <th>BMI</th>\n",
       "      <th>DiabetesPedigreeFunction</th>\n",
       "      <th>Age</th>\n",
       "      <th>Outcome</th>\n",
       "    </tr>\n",
       "  </thead>\n",
       "  <tbody>\n",
       "    <tr>\n",
       "      <th>0</th>\n",
       "      <td>6</td>\n",
       "      <td>148</td>\n",
       "      <td>72</td>\n",
       "      <td>35</td>\n",
       "      <td>0</td>\n",
       "      <td>33.6</td>\n",
       "      <td>0.627</td>\n",
       "      <td>50</td>\n",
       "      <td>1</td>\n",
       "    </tr>\n",
       "    <tr>\n",
       "      <th>1</th>\n",
       "      <td>1</td>\n",
       "      <td>85</td>\n",
       "      <td>66</td>\n",
       "      <td>29</td>\n",
       "      <td>0</td>\n",
       "      <td>26.6</td>\n",
       "      <td>0.351</td>\n",
       "      <td>31</td>\n",
       "      <td>0</td>\n",
       "    </tr>\n",
       "    <tr>\n",
       "      <th>2</th>\n",
       "      <td>8</td>\n",
       "      <td>183</td>\n",
       "      <td>64</td>\n",
       "      <td>0</td>\n",
       "      <td>0</td>\n",
       "      <td>23.3</td>\n",
       "      <td>0.672</td>\n",
       "      <td>32</td>\n",
       "      <td>1</td>\n",
       "    </tr>\n",
       "    <tr>\n",
       "      <th>3</th>\n",
       "      <td>1</td>\n",
       "      <td>89</td>\n",
       "      <td>66</td>\n",
       "      <td>23</td>\n",
       "      <td>94</td>\n",
       "      <td>28.1</td>\n",
       "      <td>0.167</td>\n",
       "      <td>21</td>\n",
       "      <td>0</td>\n",
       "    </tr>\n",
       "    <tr>\n",
       "      <th>4</th>\n",
       "      <td>0</td>\n",
       "      <td>137</td>\n",
       "      <td>40</td>\n",
       "      <td>35</td>\n",
       "      <td>168</td>\n",
       "      <td>43.1</td>\n",
       "      <td>2.288</td>\n",
       "      <td>33</td>\n",
       "      <td>1</td>\n",
       "    </tr>\n",
       "  </tbody>\n",
       "</table>\n",
       "</div>"
      ],
      "text/plain": [
       "   Pregnancies  Glucose  BloodPressure  SkinThickness  Insulin   BMI  \\\n",
       "0            6      148             72             35        0  33.6   \n",
       "1            1       85             66             29        0  26.6   \n",
       "2            8      183             64              0        0  23.3   \n",
       "3            1       89             66             23       94  28.1   \n",
       "4            0      137             40             35      168  43.1   \n",
       "\n",
       "   DiabetesPedigreeFunction  Age  Outcome  \n",
       "0                     0.627   50        1  \n",
       "1                     0.351   31        0  \n",
       "2                     0.672   32        1  \n",
       "3                     0.167   21        0  \n",
       "4                     2.288   33        1  "
      ]
     },
     "execution_count": 11,
     "metadata": {},
     "output_type": "execute_result"
    }
   ],
   "source": [
    "# Univariate Analysis\n",
    "df.head()"
   ]
  },
  {
   "cell_type": "code",
   "execution_count": 11,
   "id": "9b4bd124-4241-4766-9f0a-84f1dc2de89f",
   "metadata": {},
   "outputs": [
    {
     "data": {
      "text/plain": [
       "<Axes: xlabel='Pregnancies', ylabel='count'>"
      ]
     },
     "execution_count": 11,
     "metadata": {},
     "output_type": "execute_result"
    },
    {
     "data": {
      "image/png": "[encoded data removed]",
      "text/plain": [
       "<Figure size 640x480 with 1 Axes>"
      ]
     },
     "metadata": {},
     "output_type": "display_data"
    }
   ],
   "source": [
    "sns.countplot(x='Pregnancies', data=df)"
   ]
  },
  {
   "cell_type": "code",
   "execution_count": 12,
   "id": "43be4a8e-cc8e-4196-ab97-a629bb2310a2",
   "metadata": {},
   "outputs": [
    {
     "data": {
      "text/plain": [
       "Pregnancies\n",
       "1     135\n",
       "0     111\n",
       "2     103\n",
       "3      75\n",
       "4      68\n",
       "5      57\n",
       "6      50\n",
       "7      45\n",
       "8      38\n",
       "9      28\n",
       "10     24\n",
       "11     11\n",
       "13     10\n",
       "12      9\n",
       "14      2\n",
       "15      1\n",
       "17      1\n",
       "Name: count, dtype: int64"
      ]
     },
     "execution_count": 12,
     "metadata": {},
     "output_type": "execute_result"
    }
   ],
   "source": [
    "df.Pregnancies.value_counts()"
   ]
  },
  {
   "cell_type": "code",
   "execution_count": 14,
   "id": "3534d281-d229-408d-81cf-9504c65a2074",
   "metadata": {},
   "outputs": [
    {
     "data": {
      "image/png": "[encoded data removed]",
      "text/plain": [
       "<Figure size 1000x600 with 9 Axes>"
      ]
     },
     "metadata": {},
     "output_type": "display_data"
    }
   ],
   "source": [
    "plt.figure(figsize=(10,6),facecolor='white')\n",
    "plotnumber=1\n",
    "\n",
    "for i in df:\n",
    "    if plotnumber <=9:\n",
    "        ax=plt.subplot(3,3,plotnumber)\n",
    "        sns.histplot(df[i])\n",
    "        plt.xlabel(i,fontsize=10)\n",
    "        plt.ylabel('Count-->',fontsize=10)\n",
    "    plotnumber +=1\n",
    "plt.tight_layout()\n",
    "        \n",
    "        \n",
    "    "
   ]
  },
  {
   "cell_type": "code",
   "execution_count": 14,
   "id": "d3dbba14-ca9c-49be-b094-d85e652fc1a8",
   "metadata": {},
   "outputs": [
    {
     "name": "stdout",
     "output_type": "stream",
     "text": [
      "Pregnancies\n",
      "Glucose\n",
      "BloodPressure\n",
      "SkinThickness\n",
      "Insulin\n",
      "BMI\n",
      "DiabetesPedigreeFunction\n",
      "Age\n",
      "Outcome\n"
     ]
    }
   ],
   "source": [
    "for i in df:\n",
    "    print(i)"
   ]
  },
  {
   "cell_type": "code",
   "execution_count": 15,
   "id": "7dc4d642-3adc-4c22-87b5-c5e8ad059761",
   "metadata": {},
   "outputs": [
    {
     "data": {
      "text/plain": [
       "<Axes: xlabel='Pregnancies', ylabel='count'>"
      ]
     },
     "execution_count": 15,
     "metadata": {},
     "output_type": "execute_result"
    },
    {
     "data": {
      "image/png": "[encoded data removed]",
      "text/plain": [
       "<Figure size 640x480 with 1 Axes>"
      ]
     },
     "metadata": {},
     "output_type": "display_data"
    }
   ],
   "source": [
    "##Bivariate Analysis refers to plots between input variables and target variables.\n",
    "sns.countplot(x='Pregnancies',hue='Outcome', data=df)"
   ]
  },
  {
   "cell_type": "markdown",
   "id": "8ee96093-9190-4d7d-bff4-f8bd1b0622c7",
   "metadata": {},
   "source": [
    "1) If the pateint is preganent,she will get diabetes.But after analyzing this data,we found as the no of pregnenacy increases chances of getting diabetes also increases.\n",
    "2) At from 14 to 17 pregnancies all women are diabetic."
   ]
  },
  {
   "cell_type": "code",
   "execution_count": 15,
   "id": "c59bbf2d-d8ea-4160-b17f-a62b21c65511",
   "metadata": {},
   "outputs": [
    {
     "data": {
      "text/plain": [
       "<Axes: xlabel='Glucose', ylabel='Count'>"
      ]
     },
     "execution_count": 15,
     "metadata": {},
     "output_type": "execute_result"
    },
    {
     "data": {
      "image/png": "[encoded data removed]",
      "text/plain": [
       "<Figure size 640x480 with 1 Axes>"
      ]
     },
     "metadata": {},
     "output_type": "display_data"
    }
   ],
   "source": [
    "## Aanlyzing the relationship between diabetes and Glucose\n",
    "sns.histplot(x='Glucose',hue='Outcome',data=df)"
   ]
  },
  {
   "cell_type": "code",
   "execution_count": 18,
   "id": "46f6f3da-118c-4ba6-aac4-531e972a098a",
   "metadata": {},
   "outputs": [
    {
     "name": "stderr",
     "output_type": "stream",
     "text": [
      "C:\\Python11x\\Lib\\site-packages\\seaborn\\axisgrid.py:118: UserWarning: The figure layout has changed to tight\n",
      "  self._figure.tight_layout(*args, **kwargs)\n"
     ]
    },
    {
     "data": {
      "image/png": "[encoded data removed]",
      "text/plain": [
       "<Figure size 574.361x500 with 1 Axes>"
      ]
     },
     "metadata": {},
     "output_type": "display_data"
    }
   ],
   "source": [
    "## Analyze Glucose with blood pressure\n",
    "sns.relplot(x='Glucose',y='BloodPressure',hue='Outcome',data=df)\n",
    "plt.show()"
   ]
  },
  {
   "cell_type": "code",
   "execution_count": 16,
   "id": "0a5431d1-956e-410a-8c60-66126a0b83ea",
   "metadata": {},
   "outputs": [
    {
     "data": {
      "image/png": "[encoded data removed]",
      "text/plain": [
       "<Figure size 574.361x500 with 1 Axes>"
      ]
     },
     "metadata": {},
     "output_type": "display_data"
    }
   ],
   "source": [
    "## Analyze Glucose with SkinThickness\n",
    "\n",
    "sns.relplot(x='Glucose',y='SkinThickness',hue='Outcome',data=df)\n",
    "plt.show()"
   ]
  },
  {
   "cell_type": "code",
   "execution_count": 20,
   "id": "4727178a-39ba-424f-af73-a1547d681866",
   "metadata": {},
   "outputs": [
    {
     "data": {
      "text/plain": [
       "<Axes: xlabel='BloodPressure', ylabel='Count'>"
      ]
     },
     "execution_count": 20,
     "metadata": {},
     "output_type": "execute_result"
    },
    {
     "data": {
      "image/png": "[encoded data removed]",
      "text/plain": [
       "<Figure size 640x480 with 1 Axes>"
      ]
     },
     "metadata": {},
     "output_type": "display_data"
    }
   ],
   "source": [
    "## Analyze relationship between BloodPressure and Outcome\n",
    "\n",
    "sns.histplot(x='BloodPressure',hue='Outcome',data=df)"
   ]
  },
  {
   "cell_type": "markdown",
   "id": "4651f514-28a8-47e7-ad2b-6fee41821bfa",
   "metadata": {},
   "source": [
    "# Data Preprocessing and Feature Engineering"
   ]
  },
  {
   "cell_type": "code",
   "execution_count": 17,
   "id": "ef7675de-d654-4984-a8ff-2ceba757f4d8",
   "metadata": {},
   "outputs": [
    {
     "data": {
      "text/plain": [
       "Pregnancies                 0\n",
       "Glucose                     0\n",
       "BloodPressure               0\n",
       "SkinThickness               0\n",
       "Insulin                     0\n",
       "BMI                         0\n",
       "DiabetesPedigreeFunction    0\n",
       "Age                         0\n",
       "Outcome                     0\n",
       "dtype: int64"
      ]
     },
     "execution_count": 17,
     "metadata": {},
     "output_type": "execute_result"
    }
   ],
   "source": [
    "df.isnull().sum() # to chk null values"
   ]
  },
  {
   "cell_type": "code",
   "execution_count": 18,
   "id": "72df014d-6c99-4174-a016-2bdd4db5815b",
   "metadata": {},
   "outputs": [],
   "source": [
    "df.Glucose.replace(0,np.median(df.Glucose),inplace=True)\n",
    "                   "
   ]
  },
  {
   "cell_type": "code",
   "execution_count": 19,
   "id": "5785d676-235b-4195-a98b-c6e19e7ad20a",
   "metadata": {},
   "outputs": [
    {
     "data": {
      "text/html": [
       "<div>\n",
       "<style scoped>\n",
       "    .dataframe tbody tr th:only-of-type {\n",
       "        vertical-align: middle;\n",
       "    }\n",
       "\n",
       "    .dataframe tbody tr th {\n",
       "        vertical-align: top;\n",
       "    }\n",
       "\n",
       "    .dataframe thead th {\n",
       "        text-align: right;\n",
       "    }\n",
       "</style>\n",
       "<table border=\"1\" class=\"dataframe\">\n",
       "  <thead>\n",
       "    <tr style=\"text-align: right;\">\n",
       "      <th></th>\n",
       "      <th>Pregnancies</th>\n",
       "      <th>Glucose</th>\n",
       "      <th>BloodPressure</th>\n",
       "      <th>SkinThickness</th>\n",
       "      <th>Insulin</th>\n",
       "      <th>BMI</th>\n",
       "      <th>DiabetesPedigreeFunction</th>\n",
       "      <th>Age</th>\n",
       "      <th>Outcome</th>\n",
       "    </tr>\n",
       "  </thead>\n",
       "  <tbody>\n",
       "  </tbody>\n",
       "</table>\n",
       "</div>"
      ],
      "text/plain": [
       "Empty DataFrame\n",
       "Columns: [Pregnancies, Glucose, BloodPressure, SkinThickness, Insulin, BMI, DiabetesPedigreeFunction, Age, Outcome]\n",
       "Index: []"
      ]
     },
     "execution_count": 19,
     "metadata": {},
     "output_type": "execute_result"
    }
   ],
   "source": [
    "df.loc[df['Glucose']==0]"
   ]
  },
  {
   "cell_type": "code",
   "execution_count": 21,
   "id": "804c3fba-3137-471c-84c7-db2f32151ff5",
   "metadata": {},
   "outputs": [],
   "source": [
    "df.BloodPressure.replace(0,np.median(df.BloodPressure),inplace=True)\n",
    "df.SkinThickness.replace(0,np.median(df.SkinThickness),inplace=True)\n",
    "df.Insulin.replace(0,np.median(df.Insulin),inplace=True)\n",
    "df.BMI.replace(0,np.median(df.BMI),inplace=True)"
   ]
  },
  {
   "cell_type": "code",
   "execution_count": 25,
   "id": "80e6ad13-1847-4cae-9981-f617c2c01439",
   "metadata": {},
   "outputs": [
    {
     "data": {
      "image/png": "[encoded data removed]",
      "text/plain": [
       "<Figure size 2000x2500 with 9 Axes>"
      ]
     },
     "metadata": {},
     "output_type": "display_data"
    }
   ],
   "source": [
    "# checking outliers\n",
    "plt.figure(figsize=(20,25), facecolor='Cyan')\n",
    "plotnumber=1\n",
    "\n",
    "for column in df:\n",
    "    if (plotnumber<=9):\n",
    "        ax=plt.subplot(3,3,plotnumber)\n",
    "        sns.boxplot(df[column])\n",
    "        plt.xlabel(column,fontsize=20)\n",
    "        plt.xlabel('Count->',fontsize=20)\n",
    "    plotnumber+=1\n",
    "plt.tight_layout()\n",
    "    "
   ]
  },
  {
   "cell_type": "code",
   "execution_count": 26,
   "id": "3a67cd86-54d8-4fcc-9246-a47312ff527c",
   "metadata": {},
   "outputs": [],
   "source": [
    "# Scaling the data \n",
    "from sklearn.preprocessing import MinMaxScaler\n",
    "sc=MinMaxScaler()\n",
    "dl=['Pregnancies','Outcome']\n",
    "data1=sc.fit_transform(df.drop(dl,axis=1))"
   ]
  },
  {
   "cell_type": "markdown",
   "id": "b6e67655-40d7-4d67-9bc8-9fe493b76e9d",
   "metadata": {},
   "source": [
    "Machine learning models learn a mapping from input variables to an output variable.\r\n",
    "\r\n",
    "As such, the scale and distribution of the data drawn from the domain may be different for each variable.\r\n",
    "\r\n",
    "Input variables may have different units (e.g. feet, kilometers, and hours) that, in turn, may mean the variables have different scales.\r\n",
    "\r\n",
    "Differences in the scales across input variables may increase the difficulty of the problem being modeled. An example of this is that large input values (e.g. a spread of hundreds or thousands of units) can result in a model that learns large weight values. A model with large weight values is often unstable, meaning that it may suffer from poor performance during learning and sensitivity to input values resulting in higher generalization \n",
    "This difference in scale for input variables does not affect all machine learning algorithms.\r\n",
    "\r\n",
    "For example, algorithms that fit a model that use a weighted sum of input variables are affected, such as linear regression, logistic regression, and artificial neural networks (deep learning).error."
   ]
  },
  {
   "cell_type": "code",
   "execution_count": 27,
   "id": "f5e83b0b-2abb-4cda-b821-ddabcd04bcd9",
   "metadata": {},
   "outputs": [],
   "source": [
    "con_data=df[['Pregnancies','Outcome']]\n"
   ]
  },
  {
   "cell_type": "code",
   "execution_count": 28,
   "id": "f36db4e5-ebd3-45a1-b3b1-0735b22811a6",
   "metadata": {},
   "outputs": [
    {
     "data": {
      "text/plain": [
       "Index(['Pregnancies', 'Glucose', 'BloodPressure', 'SkinThickness', 'Insulin',\n",
       "       'BMI', 'DiabetesPedigreeFunction', 'Age', 'Outcome'],\n",
       "      dtype='object')"
      ]
     },
     "execution_count": 28,
     "metadata": {},
     "output_type": "execute_result"
    }
   ],
   "source": [
    "df.columns"
   ]
  },
  {
   "cell_type": "code",
   "execution_count": 29,
   "id": "6a242cd8-6fcd-4f2a-998e-7a50cfef5de6",
   "metadata": {},
   "outputs": [
    {
     "data": {
      "text/plain": [
       "numpy.ndarray"
      ]
     },
     "execution_count": 29,
     "metadata": {},
     "output_type": "execute_result"
    }
   ],
   "source": [
    "type(data1)"
   ]
  },
  {
   "cell_type": "code",
   "execution_count": 30,
   "id": "826a1896-a438-4ea4-8f50-c5dc53932a13",
   "metadata": {},
   "outputs": [],
   "source": [
    "data2=pd.DataFrame(data1,columns=['Glucose', 'BloodPressure', 'SkinThickness', 'Insulin',\n",
    "       'BMI', 'DiabetesPedigreeFunction', 'Age'])    # coverting to data frame again"
   ]
  },
  {
   "cell_type": "code",
   "execution_count": 31,
   "id": "955e7b94-e792-44e7-bf65-12c1f46b4ea8",
   "metadata": {},
   "outputs": [],
   "source": [
    "final_df=pd.concat([data2,con_data],axis=1)"
   ]
  },
  {
   "cell_type": "code",
   "execution_count": 32,
   "id": "6cc3ec20-47ed-4a40-97f6-38aa456f19e3",
   "metadata": {},
   "outputs": [
    {
     "data": {
      "text/html": [
       "<div>\n",
       "<style scoped>\n",
       "    .dataframe tbody tr th:only-of-type {\n",
       "        vertical-align: middle;\n",
       "    }\n",
       "\n",
       "    .dataframe tbody tr th {\n",
       "        vertical-align: top;\n",
       "    }\n",
       "\n",
       "    .dataframe thead th {\n",
       "        text-align: right;\n",
       "    }\n",
       "</style>\n",
       "<table border=\"1\" class=\"dataframe\">\n",
       "  <thead>\n",
       "    <tr style=\"text-align: right;\">\n",
       "      <th></th>\n",
       "      <th>Glucose</th>\n",
       "      <th>BloodPressure</th>\n",
       "      <th>SkinThickness</th>\n",
       "      <th>Insulin</th>\n",
       "      <th>BMI</th>\n",
       "      <th>DiabetesPedigreeFunction</th>\n",
       "      <th>Age</th>\n",
       "      <th>Pregnancies</th>\n",
       "      <th>Outcome</th>\n",
       "    </tr>\n",
       "  </thead>\n",
       "  <tbody>\n",
       "    <tr>\n",
       "      <th>0</th>\n",
       "      <td>0.670968</td>\n",
       "      <td>0.489796</td>\n",
       "      <td>0.304348</td>\n",
       "      <td>0.019832</td>\n",
       "      <td>0.314928</td>\n",
       "      <td>0.234415</td>\n",
       "      <td>0.483333</td>\n",
       "      <td>6</td>\n",
       "      <td>1</td>\n",
       "    </tr>\n",
       "    <tr>\n",
       "      <th>1</th>\n",
       "      <td>0.264516</td>\n",
       "      <td>0.428571</td>\n",
       "      <td>0.239130</td>\n",
       "      <td>0.019832</td>\n",
       "      <td>0.171779</td>\n",
       "      <td>0.116567</td>\n",
       "      <td>0.166667</td>\n",
       "      <td>1</td>\n",
       "      <td>0</td>\n",
       "    </tr>\n",
       "    <tr>\n",
       "      <th>2</th>\n",
       "      <td>0.896774</td>\n",
       "      <td>0.408163</td>\n",
       "      <td>0.173913</td>\n",
       "      <td>0.019832</td>\n",
       "      <td>0.104294</td>\n",
       "      <td>0.253629</td>\n",
       "      <td>0.183333</td>\n",
       "      <td>8</td>\n",
       "      <td>1</td>\n",
       "    </tr>\n",
       "    <tr>\n",
       "      <th>3</th>\n",
       "      <td>0.290323</td>\n",
       "      <td>0.428571</td>\n",
       "      <td>0.173913</td>\n",
       "      <td>0.096154</td>\n",
       "      <td>0.202454</td>\n",
       "      <td>0.038002</td>\n",
       "      <td>0.000000</td>\n",
       "      <td>1</td>\n",
       "      <td>0</td>\n",
       "    </tr>\n",
       "    <tr>\n",
       "      <th>4</th>\n",
       "      <td>0.600000</td>\n",
       "      <td>0.163265</td>\n",
       "      <td>0.304348</td>\n",
       "      <td>0.185096</td>\n",
       "      <td>0.509202</td>\n",
       "      <td>0.943638</td>\n",
       "      <td>0.200000</td>\n",
       "      <td>0</td>\n",
       "      <td>1</td>\n",
       "    </tr>\n",
       "    <tr>\n",
       "      <th>...</th>\n",
       "      <td>...</td>\n",
       "      <td>...</td>\n",
       "      <td>...</td>\n",
       "      <td>...</td>\n",
       "      <td>...</td>\n",
       "      <td>...</td>\n",
       "      <td>...</td>\n",
       "      <td>...</td>\n",
       "      <td>...</td>\n",
       "    </tr>\n",
       "    <tr>\n",
       "      <th>763</th>\n",
       "      <td>0.367742</td>\n",
       "      <td>0.530612</td>\n",
       "      <td>0.445652</td>\n",
       "      <td>0.199519</td>\n",
       "      <td>0.300613</td>\n",
       "      <td>0.039710</td>\n",
       "      <td>0.700000</td>\n",
       "      <td>10</td>\n",
       "      <td>0</td>\n",
       "    </tr>\n",
       "    <tr>\n",
       "      <th>764</th>\n",
       "      <td>0.503226</td>\n",
       "      <td>0.469388</td>\n",
       "      <td>0.217391</td>\n",
       "      <td>0.019832</td>\n",
       "      <td>0.380368</td>\n",
       "      <td>0.111870</td>\n",
       "      <td>0.100000</td>\n",
       "      <td>2</td>\n",
       "      <td>0</td>\n",
       "    </tr>\n",
       "    <tr>\n",
       "      <th>765</th>\n",
       "      <td>0.496774</td>\n",
       "      <td>0.489796</td>\n",
       "      <td>0.173913</td>\n",
       "      <td>0.117788</td>\n",
       "      <td>0.163599</td>\n",
       "      <td>0.071307</td>\n",
       "      <td>0.150000</td>\n",
       "      <td>5</td>\n",
       "      <td>0</td>\n",
       "    </tr>\n",
       "    <tr>\n",
       "      <th>766</th>\n",
       "      <td>0.529032</td>\n",
       "      <td>0.367347</td>\n",
       "      <td>0.173913</td>\n",
       "      <td>0.019832</td>\n",
       "      <td>0.243354</td>\n",
       "      <td>0.115713</td>\n",
       "      <td>0.433333</td>\n",
       "      <td>1</td>\n",
       "      <td>1</td>\n",
       "    </tr>\n",
       "    <tr>\n",
       "      <th>767</th>\n",
       "      <td>0.316129</td>\n",
       "      <td>0.469388</td>\n",
       "      <td>0.260870</td>\n",
       "      <td>0.019832</td>\n",
       "      <td>0.249489</td>\n",
       "      <td>0.101196</td>\n",
       "      <td>0.033333</td>\n",
       "      <td>1</td>\n",
       "      <td>0</td>\n",
       "    </tr>\n",
       "  </tbody>\n",
       "</table>\n",
       "<p>768 rows × 9 columns</p>\n",
       "</div>"
      ],
      "text/plain": [
       "      Glucose  BloodPressure  SkinThickness   Insulin       BMI  \\\n",
       "0    0.670968       0.489796       0.304348  0.019832  0.314928   \n",
       "1    0.264516       0.428571       0.239130  0.019832  0.171779   \n",
       "2    0.896774       0.408163       0.173913  0.019832  0.104294   \n",
       "3    0.290323       0.428571       0.173913  0.096154  0.202454   \n",
       "4    0.600000       0.163265       0.304348  0.185096  0.509202   \n",
       "..        ...            ...            ...       ...       ...   \n",
       "763  0.367742       0.530612       0.445652  0.199519  0.300613   \n",
       "764  0.503226       0.469388       0.217391  0.019832  0.380368   \n",
       "765  0.496774       0.489796       0.173913  0.117788  0.163599   \n",
       "766  0.529032       0.367347       0.173913  0.019832  0.243354   \n",
       "767  0.316129       0.469388       0.260870  0.019832  0.249489   \n",
       "\n",
       "     DiabetesPedigreeFunction       Age  Pregnancies  Outcome  \n",
       "0                    0.234415  0.483333            6        1  \n",
       "1                    0.116567  0.166667            1        0  \n",
       "2                    0.253629  0.183333            8        1  \n",
       "3                    0.038002  0.000000            1        0  \n",
       "4                    0.943638  0.200000            0        1  \n",
       "..                        ...       ...          ...      ...  \n",
       "763                  0.039710  0.700000           10        0  \n",
       "764                  0.111870  0.100000            2        0  \n",
       "765                  0.071307  0.150000            5        0  \n",
       "766                  0.115713  0.433333            1        1  \n",
       "767                  0.101196  0.033333            1        0  \n",
       "\n",
       "[768 rows x 9 columns]"
      ]
     },
     "execution_count": 32,
     "metadata": {},
     "output_type": "execute_result"
    }
   ],
   "source": [
    "final_df"
   ]
  },
  {
   "cell_type": "markdown",
   "id": "871ea03d-4cb1-44e9-b803-fd2d61c9cb4d",
   "metadata": {},
   "source": [
    "# Feature Selection\n"
   ]
  },
  {
   "cell_type": "code",
   "execution_count": 33,
   "id": "89c23772-76cd-41e5-bed6-b31cbbbdd897",
   "metadata": {},
   "outputs": [
    {
     "data": {
      "text/plain": [
       "<Axes: >"
      ]
     },
     "execution_count": 33,
     "metadata": {},
     "output_type": "execute_result"
    },
    {
     "data": {
      "image/png": "[encoded data removed]",
      "text/plain": [
       "<Figure size 640x480 with 2 Axes>"
      ]
     },
     "metadata": {},
     "output_type": "display_data"
    }
   ],
   "source": [
    "sns.heatmap(data2.corr(),annot=True)"
   ]
  },
  {
   "cell_type": "markdown",
   "id": "2fd13ac6-6d4e-4792-9d75-cd1c54d6de8a",
   "metadata": {},
   "source": [
    "# Model Creation"
   ]
  },
  {
   "cell_type": "code",
   "execution_count": 34,
   "id": "859def2e-bcc1-4151-8005-560e704fce39",
   "metadata": {},
   "outputs": [
    {
     "data": {
      "text/html": [
       "<div>\n",
       "<style scoped>\n",
       "    .dataframe tbody tr th:only-of-type {\n",
       "        vertical-align: middle;\n",
       "    }\n",
       "\n",
       "    .dataframe tbody tr th {\n",
       "        vertical-align: top;\n",
       "    }\n",
       "\n",
       "    .dataframe thead th {\n",
       "        text-align: right;\n",
       "    }\n",
       "</style>\n",
       "<table border=\"1\" class=\"dataframe\">\n",
       "  <thead>\n",
       "    <tr style=\"text-align: right;\">\n",
       "      <th></th>\n",
       "      <th>Glucose</th>\n",
       "      <th>BloodPressure</th>\n",
       "      <th>SkinThickness</th>\n",
       "      <th>Insulin</th>\n",
       "      <th>BMI</th>\n",
       "      <th>DiabetesPedigreeFunction</th>\n",
       "      <th>Age</th>\n",
       "      <th>Pregnancies</th>\n",
       "    </tr>\n",
       "  </thead>\n",
       "  <tbody>\n",
       "    <tr>\n",
       "      <th>0</th>\n",
       "      <td>0.670968</td>\n",
       "      <td>0.489796</td>\n",
       "      <td>0.304348</td>\n",
       "      <td>0.019832</td>\n",
       "      <td>0.314928</td>\n",
       "      <td>0.234415</td>\n",
       "      <td>0.483333</td>\n",
       "      <td>6</td>\n",
       "    </tr>\n",
       "    <tr>\n",
       "      <th>1</th>\n",
       "      <td>0.264516</td>\n",
       "      <td>0.428571</td>\n",
       "      <td>0.239130</td>\n",
       "      <td>0.019832</td>\n",
       "      <td>0.171779</td>\n",
       "      <td>0.116567</td>\n",
       "      <td>0.166667</td>\n",
       "      <td>1</td>\n",
       "    </tr>\n",
       "    <tr>\n",
       "      <th>2</th>\n",
       "      <td>0.896774</td>\n",
       "      <td>0.408163</td>\n",
       "      <td>0.173913</td>\n",
       "      <td>0.019832</td>\n",
       "      <td>0.104294</td>\n",
       "      <td>0.253629</td>\n",
       "      <td>0.183333</td>\n",
       "      <td>8</td>\n",
       "    </tr>\n",
       "    <tr>\n",
       "      <th>3</th>\n",
       "      <td>0.290323</td>\n",
       "      <td>0.428571</td>\n",
       "      <td>0.173913</td>\n",
       "      <td>0.096154</td>\n",
       "      <td>0.202454</td>\n",
       "      <td>0.038002</td>\n",
       "      <td>0.000000</td>\n",
       "      <td>1</td>\n",
       "    </tr>\n",
       "    <tr>\n",
       "      <th>4</th>\n",
       "      <td>0.600000</td>\n",
       "      <td>0.163265</td>\n",
       "      <td>0.304348</td>\n",
       "      <td>0.185096</td>\n",
       "      <td>0.509202</td>\n",
       "      <td>0.943638</td>\n",
       "      <td>0.200000</td>\n",
       "      <td>0</td>\n",
       "    </tr>\n",
       "  </tbody>\n",
       "</table>\n",
       "</div>"
      ],
      "text/plain": [
       "    Glucose  BloodPressure  SkinThickness   Insulin       BMI  \\\n",
       "0  0.670968       0.489796       0.304348  0.019832  0.314928   \n",
       "1  0.264516       0.428571       0.239130  0.019832  0.171779   \n",
       "2  0.896774       0.408163       0.173913  0.019832  0.104294   \n",
       "3  0.290323       0.428571       0.173913  0.096154  0.202454   \n",
       "4  0.600000       0.163265       0.304348  0.185096  0.509202   \n",
       "\n",
       "   DiabetesPedigreeFunction       Age  Pregnancies  \n",
       "0                  0.234415  0.483333            6  \n",
       "1                  0.116567  0.166667            1  \n",
       "2                  0.253629  0.183333            8  \n",
       "3                  0.038002  0.000000            1  \n",
       "4                  0.943638  0.200000            0  "
      ]
     },
     "execution_count": 34,
     "metadata": {},
     "output_type": "execute_result"
    }
   ],
   "source": [
    "X=final_df.iloc[:,:-1]\n",
    "X.head()"
   ]
  },
  {
   "cell_type": "code",
   "execution_count": 35,
   "id": "7c9bc79e-9d92-4d24-b080-5f6a3ec659f6",
   "metadata": {},
   "outputs": [],
   "source": [
    "y=final_df.Outcome"
   ]
  },
  {
   "cell_type": "code",
   "execution_count": 36,
   "id": "9a24ba47-c6fd-46d8-90a7-114e4a4eb281",
   "metadata": {},
   "outputs": [
    {
     "data": {
      "text/plain": [
       "0    1\n",
       "1    0\n",
       "2    1\n",
       "3    0\n",
       "4    1\n",
       "Name: Outcome, dtype: int64"
      ]
     },
     "execution_count": 36,
     "metadata": {},
     "output_type": "execute_result"
    }
   ],
   "source": [
    "y.head()"
   ]
  },
  {
   "cell_type": "code",
   "execution_count": 37,
   "id": "58e06e77-43d6-41c1-9a33-4e7cf59dd6f5",
   "metadata": {},
   "outputs": [],
   "source": [
    "## Step 2 Creating training and testing data.\n",
    "from sklearn.model_selection import train_test_split\n",
    "X_train,X_test,y_train,y_test=train_test_split(X,y,random_state=45)"
   ]
  },
  {
   "cell_type": "code",
   "execution_count": 38,
   "id": "9b988678-255b-437e-9c46-40b16ae0bd89",
   "metadata": {},
   "outputs": [
    {
     "data": {
      "text/plain": [
       "195    1\n",
       "51     0\n",
       "66     1\n",
       "437    0\n",
       "665    0\n",
       "      ..\n",
       "671    0\n",
       "422    0\n",
       "742    0\n",
       "331    0\n",
       "699    0\n",
       "Name: Outcome, Length: 192, dtype: int64"
      ]
     },
     "execution_count": 38,
     "metadata": {},
     "output_type": "execute_result"
    }
   ],
   "source": [
    "y_test"
   ]
  },
  {
   "cell_type": "code",
   "execution_count": 39,
   "id": "18f78466-18d5-4f29-af7f-7ce4e2868e14",
   "metadata": {},
   "outputs": [
    {
     "data": {
      "text/html": [
       "<style>#sk-container-id-1 {color: black;}#sk-container-id-1 pre{padding: 0;}#sk-container-id-1 div.sk-toggleable {background-color: white;}#sk-container-id-1 label.sk-toggleable__label {cursor: pointer;display: block;width: 100%;margin-bottom: 0;padding: 0.3em;box-sizing: border-box;text-align: center;}#sk-container-id-1 label.sk-toggleable__label-arrow:before {content: \"▸\";float: left;margin-right: 0.25em;color: #696969;}#sk-container-id-1 label.sk-toggleable__label-arrow:hover:before {color: black;}#sk-container-id-1 div.sk-estimator:hover label.sk-toggleable__label-arrow:before {color: black;}#sk-container-id-1 div.sk-toggleable__content {max-height: 0;max-width: 0;overflow: hidden;text-align: left;background-color: #f0f8ff;}#sk-container-id-1 div.sk-toggleable__content pre {margin: 0.2em;color: black;border-radius: 0.25em;background-color: #f0f8ff;}#sk-container-id-1 input.sk-toggleable__control:checked~div.sk-toggleable__content {max-height: 200px;max-width: 100%;overflow: auto;}#sk-container-id-1 input.sk-toggleable__control:checked~label.sk-toggleable__label-arrow:before {content: \"▾\";}#sk-container-id-1 div.sk-estimator input.sk-toggleable__control:checked~label.sk-toggleable__label {background-color: #d4ebff;}#sk-container-id-1 div.sk-label input.sk-toggleable__control:checked~label.sk-toggleable__label {background-color: #d4ebff;}#sk-container-id-1 input.sk-hidden--visually {border: 0;clip: rect(1px 1px 1px 1px);clip: rect(1px, 1px, 1px, 1px);height: 1px;margin: -1px;overflow: hidden;padding: 0;position: absolute;width: 1px;}#sk-container-id-1 div.sk-estimator {font-family: monospace;background-color: #f0f8ff;border: 1px dotted black;border-radius: 0.25em;box-sizing: border-box;margin-bottom: 0.5em;}#sk-container-id-1 div.sk-estimator:hover {background-color: #d4ebff;}#sk-container-id-1 div.sk-parallel-item::after {content: \"\";width: 100%;border-bottom: 1px solid gray;flex-grow: 1;}#sk-container-id-1 div.sk-label:hover label.sk-toggleable__label {background-color: #d4ebff;}#sk-container-id-1 div.sk-serial::before {content: \"\";position: absolute;border-left: 1px solid gray;box-sizing: border-box;top: 0;bottom: 0;left: 50%;z-index: 0;}#sk-container-id-1 div.sk-serial {display: flex;flex-direction: column;align-items: center;background-color: white;padding-right: 0.2em;padding-left: 0.2em;position: relative;}#sk-container-id-1 div.sk-item {position: relative;z-index: 1;}#sk-container-id-1 div.sk-parallel {display: flex;align-items: stretch;justify-content: center;background-color: white;position: relative;}#sk-container-id-1 div.sk-item::before, #sk-container-id-1 div.sk-parallel-item::before {content: \"\";position: absolute;border-left: 1px solid gray;box-sizing: border-box;top: 0;bottom: 0;left: 50%;z-index: -1;}#sk-container-id-1 div.sk-parallel-item {display: flex;flex-direction: column;z-index: 1;position: relative;background-color: white;}#sk-container-id-1 div.sk-parallel-item:first-child::after {align-self: flex-end;width: 50%;}#sk-container-id-1 div.sk-parallel-item:last-child::after {align-self: flex-start;width: 50%;}#sk-container-id-1 div.sk-parallel-item:only-child::after {width: 0;}#sk-container-id-1 div.sk-dashed-wrapped {border: 1px dashed gray;margin: 0 0.4em 0.5em 0.4em;box-sizing: border-box;padding-bottom: 0.4em;background-color: white;}#sk-container-id-1 div.sk-label label {font-family: monospace;font-weight: bold;display: inline-block;line-height: 1.2em;}#sk-container-id-1 div.sk-label-container {text-align: center;}#sk-container-id-1 div.sk-container {/* jupyter's `normalize.less` sets `[hidden] { display: none; }` but bootstrap.min.css set `[hidden] { display: none !important; }` so we also need the `!important` here to be able to override the default hidden behavior on the sphinx rendered scikit-learn.org. See: https://github.com/scikit-learn/scikit-learn/issues/21755 */display: inline-block !important;position: relative;}#sk-container-id-1 div.sk-text-repr-fallback {display: none;}</style><div id=\"sk-container-id-1\" class=\"sk-top-container\"><div class=\"sk-text-repr-fallback\"><pre>LogisticRegression()</pre><b>In a Jupyter environment, please rerun this cell to show the HTML representation or trust the notebook. <br />On GitHub, the HTML representation is unable to render, please try loading this page with nbviewer.org.</b></div><div class=\"sk-container\" hidden><div class=\"sk-item\"><div class=\"sk-estimator sk-toggleable\"><input class=\"sk-toggleable__control sk-hidden--visually\" id=\"sk-estimator-id-1\" type=\"checkbox\" checked><label for=\"sk-estimator-id-1\" class=\"sk-toggleable__label sk-toggleable__label-arrow\">LogisticRegression</label><div class=\"sk-toggleable__content\"><pre>LogisticRegression()</pre></div></div></div></div></div>"
      ],
      "text/plain": [
       "LogisticRegression()"
      ]
     },
     "execution_count": 39,
     "metadata": {},
     "output_type": "execute_result"
    }
   ],
   "source": [
    "## Step 3 Model creation\n",
    "from sklearn.linear_model import LogisticRegression\n",
    "clf=LogisticRegression()\n",
    "clf.fit(X_train,y_train)\n"
   ]
  },
  {
   "cell_type": "code",
   "execution_count": 40,
   "id": "1dfb7651-3103-4cdc-9c84-972f3427223e",
   "metadata": {},
   "outputs": [
    {
     "data": {
      "text/plain": [
       "array([1, 0, 0, 0, 0, 0, 0, 0, 1, 0, 1, 0, 0, 1, 0, 0, 1, 0, 1, 0, 0, 0,\n",
       "       0, 0, 0, 1, 0, 1, 1, 0, 0, 1, 0, 0, 0, 0, 0, 0, 0, 0, 0, 0, 1, 1,\n",
       "       0, 0, 0, 1, 0, 0, 0, 1, 0, 0, 0, 0, 0, 1, 1, 1, 1, 1, 0, 0, 0, 0,\n",
       "       0, 0, 1, 0, 0, 0, 0, 0, 0, 0, 0, 0, 0, 0, 0, 0, 1, 0, 1, 0, 1, 0,\n",
       "       0, 0, 1, 0, 0, 0, 0, 0, 1, 0, 1, 0, 1, 1, 1, 1, 0, 0, 0, 0, 1, 1,\n",
       "       1, 0, 0, 1, 0, 0, 0, 1, 0, 0, 0, 0, 0, 0, 0, 0, 0, 0, 0, 0, 0, 0,\n",
       "       0, 0, 0, 1, 0, 0, 0, 1, 0, 1, 0, 0, 1, 0, 0, 0, 0, 0, 0, 0, 1, 0,\n",
       "       0, 1, 0, 0, 0, 0, 1, 0, 0, 0, 0, 0, 0, 0, 1, 0, 0, 1, 0, 0, 0, 0,\n",
       "       0, 1, 0, 0, 0, 1, 1, 0, 0, 0, 1, 0, 0, 0, 0, 0], dtype=int64)"
      ]
     },
     "execution_count": 40,
     "metadata": {},
     "output_type": "execute_result"
    }
   ],
   "source": [
    "y_pred=clf.predict(X_test)\n",
    "y_pred"
   ]
  },
  {
   "cell_type": "code",
   "execution_count": 41,
   "id": "9f2afb63-54e7-445b-861f-0ca0a31185ff",
   "metadata": {},
   "outputs": [],
   "source": [
    "y_pred_prob=clf.predict_proba(X_test)"
   ]
  },
  {
   "cell_type": "code",
   "execution_count": 42,
   "id": "bdcf74ab-4c80-42ba-bdad-b60905b9659b",
   "metadata": {},
   "outputs": [
    {
     "data": {
      "text/plain": [
       "array([[0.33743389, 0.66256611],\n",
       "       [0.90164492, 0.09835508],\n",
       "       [0.740058  , 0.259942  ],\n",
       "       [0.53963051, 0.46036949],\n",
       "       [0.81026035, 0.18973965],\n",
       "       [0.85484529, 0.14515471],\n",
       "       [0.54407058, 0.45592942],\n",
       "       [0.9242643 , 0.0757357 ],\n",
       "       [0.36227241, 0.63772759],\n",
       "       [0.91519934, 0.08480066],\n",
       "       [0.24509263, 0.75490737],\n",
       "       [0.53439685, 0.46560315],\n",
       "       [0.94236849, 0.05763151],\n",
       "       [0.44039766, 0.55960234],\n",
       "       [0.73456378, 0.26543622],\n",
       "       [0.90467069, 0.09532931],\n",
       "       [0.06517116, 0.93482884],\n",
       "       [0.60883675, 0.39116325],\n",
       "       [0.38320038, 0.61679962],\n",
       "       [0.91370945, 0.08629055],\n",
       "       [0.65556596, 0.34443404],\n",
       "       [0.7178171 , 0.2821829 ],\n",
       "       [0.57393877, 0.42606123],\n",
       "       [0.82546245, 0.17453755],\n",
       "       [0.7988021 , 0.2011979 ],\n",
       "       [0.36473673, 0.63526327],\n",
       "       [0.8577693 , 0.1422307 ],\n",
       "       [0.33566192, 0.66433808],\n",
       "       [0.22691992, 0.77308008],\n",
       "       [0.83253213, 0.16746787],\n",
       "       [0.8449383 , 0.1550617 ],\n",
       "       [0.36179151, 0.63820849],\n",
       "       [0.61237854, 0.38762146],\n",
       "       [0.85125809, 0.14874191],\n",
       "       [0.78344135, 0.21655865],\n",
       "       [0.91124849, 0.08875151],\n",
       "       [0.70089612, 0.29910388],\n",
       "       [0.77527185, 0.22472815],\n",
       "       [0.54757094, 0.45242906],\n",
       "       [0.86559926, 0.13440074],\n",
       "       [0.79940924, 0.20059076],\n",
       "       [0.57529618, 0.42470382],\n",
       "       [0.4765285 , 0.5234715 ],\n",
       "       [0.25016531, 0.74983469],\n",
       "       [0.69419169, 0.30580831],\n",
       "       [0.5276971 , 0.4723029 ],\n",
       "       [0.52333746, 0.47666254],\n",
       "       [0.35345411, 0.64654589],\n",
       "       [0.79927875, 0.20072125],\n",
       "       [0.75401586, 0.24598414],\n",
       "       [0.82383405, 0.17616595],\n",
       "       [0.22301748, 0.77698252],\n",
       "       [0.52461194, 0.47538806],\n",
       "       [0.67802501, 0.32197499],\n",
       "       [0.89904155, 0.10095845],\n",
       "       [0.84237307, 0.15762693],\n",
       "       [0.96219963, 0.03780037],\n",
       "       [0.44766876, 0.55233124],\n",
       "       [0.37965885, 0.62034115],\n",
       "       [0.19233141, 0.80766859],\n",
       "       [0.35348221, 0.64651779],\n",
       "       [0.35529871, 0.64470129],\n",
       "       [0.89277249, 0.10722751],\n",
       "       [0.86827539, 0.13172461],\n",
       "       [0.69536892, 0.30463108],\n",
       "       [0.80973698, 0.19026302],\n",
       "       [0.93721366, 0.06278634],\n",
       "       [0.71316951, 0.28683049],\n",
       "       [0.48127569, 0.51872431],\n",
       "       [0.93350112, 0.06649888],\n",
       "       [0.64237125, 0.35762875],\n",
       "       [0.68552981, 0.31447019],\n",
       "       [0.91648748, 0.08351252],\n",
       "       [0.77054762, 0.22945238],\n",
       "       [0.91613447, 0.08386553],\n",
       "       [0.85272572, 0.14727428],\n",
       "       [0.58927203, 0.41072797],\n",
       "       [0.71273155, 0.28726845],\n",
       "       [0.82703054, 0.17296946],\n",
       "       [0.92561554, 0.07438446],\n",
       "       [0.82780796, 0.17219204],\n",
       "       [0.74609836, 0.25390164],\n",
       "       [0.17896572, 0.82103428],\n",
       "       [0.88272742, 0.11727258],\n",
       "       [0.07584898, 0.92415102],\n",
       "       [0.80334868, 0.19665132],\n",
       "       [0.44661968, 0.55338032],\n",
       "       [0.81402496, 0.18597504],\n",
       "       [0.86305385, 0.13694615],\n",
       "       [0.91350272, 0.08649728],\n",
       "       [0.43139682, 0.56860318],\n",
       "       [0.75195339, 0.24804661],\n",
       "       [0.79612692, 0.20387308],\n",
       "       [0.77043818, 0.22956182],\n",
       "       [0.66039595, 0.33960405],\n",
       "       [0.67685714, 0.32314286],\n",
       "       [0.08204468, 0.91795532],\n",
       "       [0.56880404, 0.43119596],\n",
       "       [0.37998367, 0.62001633],\n",
       "       [0.78646131, 0.21353869],\n",
       "       [0.09257393, 0.90742607],\n",
       "       [0.3447209 , 0.6552791 ],\n",
       "       [0.2475804 , 0.7524196 ],\n",
       "       [0.2508562 , 0.7491438 ],\n",
       "       [0.83617648, 0.16382352],\n",
       "       [0.96135356, 0.03864644],\n",
       "       [0.72636427, 0.27363573],\n",
       "       [0.60438234, 0.39561766],\n",
       "       [0.35711289, 0.64288711],\n",
       "       [0.20774726, 0.79225274],\n",
       "       [0.36239917, 0.63760083],\n",
       "       [0.79423042, 0.20576958],\n",
       "       [0.81389576, 0.18610424],\n",
       "       [0.32050584, 0.67949416],\n",
       "       [0.9131341 , 0.0868659 ],\n",
       "       [0.54182737, 0.45817263],\n",
       "       [0.84777788, 0.15222212],\n",
       "       [0.11724445, 0.88275555],\n",
       "       [0.86714408, 0.13285592],\n",
       "       [0.84812956, 0.15187044],\n",
       "       [0.8228218 , 0.1771782 ],\n",
       "       [0.86554168, 0.13445832],\n",
       "       [0.97279157, 0.02720843],\n",
       "       [0.7342521 , 0.2657479 ],\n",
       "       [0.83879247, 0.16120753],\n",
       "       [0.86478424, 0.13521576],\n",
       "       [0.67813188, 0.32186812],\n",
       "       [0.83464183, 0.16535817],\n",
       "       [0.68098194, 0.31901806],\n",
       "       [0.90945085, 0.09054915],\n",
       "       [0.65478625, 0.34521375],\n",
       "       [0.89103971, 0.10896029],\n",
       "       [0.84293075, 0.15706925],\n",
       "       [0.76673219, 0.23326781],\n",
       "       [0.84800837, 0.15199163],\n",
       "       [0.46191279, 0.53808721],\n",
       "       [0.91505476, 0.08494524],\n",
       "       [0.87100645, 0.12899355],\n",
       "       [0.80225734, 0.19774266],\n",
       "       [0.16816098, 0.83183902],\n",
       "       [0.83531794, 0.16468206],\n",
       "       [0.17573401, 0.82426599],\n",
       "       [0.9058098 , 0.0941902 ],\n",
       "       [0.90542498, 0.09457502],\n",
       "       [0.29143766, 0.70856234],\n",
       "       [0.7673627 , 0.2326373 ],\n",
       "       [0.93524189, 0.06475811],\n",
       "       [0.75791643, 0.24208357],\n",
       "       [0.86210844, 0.13789156],\n",
       "       [0.5683939 , 0.4316061 ],\n",
       "       [0.83348931, 0.16651069],\n",
       "       [0.52583149, 0.47416851],\n",
       "       [0.16704579, 0.83295421],\n",
       "       [0.90144328, 0.09855672],\n",
       "       [0.67868138, 0.32131862],\n",
       "       [0.18548028, 0.81451972],\n",
       "       [0.78904464, 0.21095536],\n",
       "       [0.93518153, 0.06481847],\n",
       "       [0.66867756, 0.33132244],\n",
       "       [0.79848836, 0.20151164],\n",
       "       [0.15239368, 0.84760632],\n",
       "       [0.64485664, 0.35514336],\n",
       "       [0.92339198, 0.07660802],\n",
       "       [0.59917582, 0.40082418],\n",
       "       [0.86360873, 0.13639127],\n",
       "       [0.87737473, 0.12262527],\n",
       "       [0.83408578, 0.16591422],\n",
       "       [0.71581064, 0.28418936],\n",
       "       [0.31399926, 0.68600074],\n",
       "       [0.66867148, 0.33132852],\n",
       "       [0.8048403 , 0.1951597 ],\n",
       "       [0.41441552, 0.58558448],\n",
       "       [0.82049378, 0.17950622],\n",
       "       [0.50496136, 0.49503864],\n",
       "       [0.70480316, 0.29519684],\n",
       "       [0.67138832, 0.32861168],\n",
       "       [0.89550216, 0.10449784],\n",
       "       [0.23249876, 0.76750124],\n",
       "       [0.83987553, 0.16012447],\n",
       "       [0.76062924, 0.23937076],\n",
       "       [0.89911537, 0.10088463],\n",
       "       [0.3366526 , 0.6633474 ],\n",
       "       [0.37215215, 0.62784785],\n",
       "       [0.7558489 , 0.2441511 ],\n",
       "       [0.56204255, 0.43795745],\n",
       "       [0.65735894, 0.34264106],\n",
       "       [0.49132892, 0.50867108],\n",
       "       [0.90840982, 0.09159018],\n",
       "       [0.79626324, 0.20373676],\n",
       "       [0.88843682, 0.11156318],\n",
       "       [0.91514315, 0.08485685],\n",
       "       [0.50504096, 0.49495904]])"
      ]
     },
     "execution_count": 42,
     "metadata": {},
     "output_type": "execute_result"
    }
   ],
   "source": [
    "y_pred_prob"
   ]
  },
  {
   "cell_type": "code",
   "execution_count": 43,
   "id": "fcc0f166-5b8f-4f33-8eec-faa6b90273f6",
   "metadata": {},
   "outputs": [
    {
     "data": {
      "text/plain": [
       "Outcome\n",
       "0    500\n",
       "1    268\n",
       "Name: count, dtype: int64"
      ]
     },
     "execution_count": 43,
     "metadata": {},
     "output_type": "execute_result"
    }
   ],
   "source": [
    "df.Outcome.value_counts()"
   ]
  },
  {
   "cell_type": "markdown",
   "id": "44f61d87-d725-459b-b73d-69e5a2637566",
   "metadata": {},
   "source": [
    "# Evaluation of Classification Matrix\n",
    "Evaluation of a Classification Model\n",
    "In machine learning, once we have a result of the classification problem, how do we measure how accurate our classification is? For a regression problem, we have different metrics like R Squared score, Mean Squared Error etc. what are the metrics to measure the credibility of a classification model?\n",
    "\n",
    "Metrics In a regression problem, the accuracy is generally measured in terms of the difference in the actual values and the predicted values. In a classification problem, the credibility of the model is measured using the confusion matrix generated, i.e., how accurately the true positives and true negatives were predicted. The different metrics used for this purpose are:\n",
    "\n",
    "Accuracy\n",
    "Recall\n",
    "Precision\n",
    "F1 Score\n",
    "Specifity\n",
    "AUC( Area Under the Curve)\n",
    "ROC(Receiver Operator Characteristic)\n",
    "Classification Report\n",
    "Confusion Matrix\n",
    "A typical confusion matrix looks like the figure shown.\n",
    "\n",
    "Image\n",
    "Where the terms have the meaning:\n",
    "\n",
    " True Positive(TP): A result that was predicted as positive by the classification model and also is positive\n",
    "\n",
    " True Negative(TN): A result that was predicted as negative by the classification model and also is negative\n",
    "\n",
    " False Positive(FP): A result that was predicted as positive by the classification model but actually is negative\n",
    "\n",
    " False Negative(FN): A result that was predicted as negative by the classification model but actually is positive.\n",
    "\n",
    "The Credibility of the model is based on how many correct predictions did the model do.\n",
    "\n",
    "Accuracy\n",
    "The mathematical formula is :\n",
    "\n",
    "Accuracy= \n",
    " \n",
    "\n",
    "Or, it can be said that it’s defined as the total number of correct classifications divided by the total number of classifications. Its is not the correct for inbalanc data beacause its always show you high accurancy becoz its bais to the high count data in binary classification becoz its not calculate the error / its won't count the error\n",
    "\n",
    "Recall or Sensitivity\n",
    "The mathematical formula is:\n",
    "\n",
    "Recall= \n",
    " \n",
    "\n",
    "Or, as the name suggests, it is a measure of: from the total number of positive results how many positives were correctly predicted by the model.\n",
    "\n",
    "It shows how relevant the model is, in terms of positive results only.\n",
    "\n",
    "Consider a classification model , the model gave 50 correct predictions(TP) but failed to identify 200 cancer patients(FN). Recall in that case will be:\n",
    "\n",
    "Recall=\n",
    " \n",
    "= 0.2 (The model was able to recall only 20% of the cancer patients)\n",
    "\n",
    "Precision\n",
    "Precision is a measure of amongst all the positive predictions, how many of them were actually positive. Mathematically,\n",
    "\n",
    "Precision=\n",
    " \n",
    "\n",
    "Let’s suppose in the previous example, the model identified 50 people as cancer patients(TP) but also raised a false alarm for 100 patients(FP). Hence,\n",
    "\n",
    "Precision=\n",
    " \n",
    "=0.33 (The model only has a precision of 33%)\n",
    "\n",
    "But we have a problem!!\n",
    "As evident from the previous example, the model had a very high Accuracy but performed poorly in terms of Precision and Recall. So, necessarily Accuracy is not the metric to use for evaluating the model in this case.\n",
    "\n",
    "Imagine a scenario, where the requirement was that the model recalled all the defaulters who did not pay back the loan. Suppose there were 10 such defaulters and to recall those 10 defaulters, and the model gave you 20 results out of which only the 10 are the actual defaulters. Now, the recall of the model is 100%, but the precision goes down to 50%.\n",
    "\n",
    "A Trade-off?\n",
    "Image\n",
    "As observed from the graph, with an increase in the Recall, there is a drop in Precision of the model.\n",
    "\n",
    "So the question is - what to go for? Precision or Recall?\n",
    "\n",
    "Well, the answer is: it depends on the business requirement.\n",
    "\n",
    "For example, if you are predicting cancer, you need a 100 % recall. But suppose you are predicting whether a person is innocent or not, you need 100% precision.\n",
    "\n",
    "Can we maximise both at the same time? No\n",
    "\n",
    "So, there is a need for a better metric then?\n",
    "\n",
    "Yes. And it’s called an F1 Score\n",
    "\n",
    "F1 Score\n",
    "From the previous examples, it is clear that we need a metric that considers both Precision and Recall for evaluating a model. One such metric is the F1 score.\n",
    "\n",
    "F1 score is defined as the harmonic mean of Precision and Recall.\n",
    "\n",
    "The mathematical formula is: F1 score= \n",
    " \n",
    "\n",
    "Specificity or True Negative Rate\n",
    "This represents how specific is the model while predicting the True Negatives. Mathematically,\n",
    "\n",
    "Specificity=\n",
    " \n",
    " Or, it can be said that it quantifies the total number of negatives predicted by the model with respect to the total number of actual negative or non favorable outcomes.\n",
    "\n",
    "Similarly, False Positive rate can be defined as: (1- specificity) Or, \n",
    " \n",
    "\n",
    "ROC(Receiver Operator Characteristic)\n",
    "We know that the classification algorithms work on the concept of probability of occurrence of the possible outcomes. A probability value lies between 0 and 1. Zero means that there is no probability of occurrence and one means that the occurrence is certain.\n",
    "\n",
    "But while working with real-time data, it has been observed that we seldom get a perfect 0 or 1 value. Instead of that, we get different decimal values lying between 0 and 1. Now the question is if we are not getting binary probability values how are we actually determining the class in our classification problem?\n",
    "\n",
    "There comes the concept of Threshold. A threshold is set, any probability value below the threshold is a negative outcome, and anything more than the threshold is a favourable or the positive outcome. For Example, if the threshold is 0.5, any probability value below 0.5 means a negative or an unfavourable outcome and any value above 0.5 indicates a positive or favourable outcome.\n",
    "\n",
    "Now, the question is, what should be an ideal threshold?\n",
    "\n",
    "The following diagram shows a typical logistic regression curve. Image\n",
    "\n",
    "The horizontal lines represent the various values of thresholds ranging from 0 to 1.\n",
    "Let’s suppose our classification problem was to identify the obese people from the given data.\n",
    "The green markers represent obese people and the red markers represent the non-obese people.\n",
    "Our confusion matrix will depend on the value of the threshold chosen by us.\n",
    "For Example, if 0.25 is the threshold then TP(actually obese)=3 TN(Not obese)=2 FP(Not obese but predicted obese)=2(the two red squares above the 0.25 line) FN(Obese but predicted as not obese )=1(Green circle below 0.25line )\n",
    "A typical ROC curve looks like the following figure. Image\n",
    "\n",
    "Mathematically, it represents the various confusion matrices for various thresholds. Each black dot is one confusion matrix.\n",
    "The green dotted line represents the scenario when the true positive rate equals the false positive rate.\n",
    "As evident from the curve, as we move from the rightmost dot towards left, after a certain threshold, the false positive rate decreases.\n",
    "After some time, the false positive rate becomes zero.\n",
    "The point encircled in green is the best point as it predicts all the values correctly and keeps the False positive as a minimum.\n",
    "But that is not a rule of thumb. Based on the requirement, we need to select the point of a threshold.\n",
    "The ROC curve answers our question of which threshold to choose.\n",
    "But we have a confusion!!\n",
    "Let’s suppose that we used different classification algorithms, and different ROCs for the corresponding algorithms have been plotted. The question is: which algorithm to choose now? The answer is to calculate the area under each ROC curve.\n",
    "\n",
    "AUC(Area Under Curve)\n",
    "Image\n",
    "It helps us to choose the best model amongst the models for which we have plotted the ROC curves\n",
    "The best model is the one which encompasses the maximum area under it.\n",
    "In the adjacent diagram, amongst the two curves, the model that resulted in the red one should be chosen as it clearly covers more area than the blue one\n",
    "When to use recall and when to you precision\n",
    "We have thousands of free customers registering in our website every week. The call center team wants to call them all, but it is imposible, so they ask me to select those with good chances to be a buyer (with high temperature is how we refer to them). We don't care to call a guy that is not going to buy (so precision is not important) but for us is very important that all of them with high temperature are always in my selection, so they don't go without buying. That means that my model needs to have a high recall, no matter if the precision goes to hell.\n",
    "\n"
   ]
  },
  {
   "cell_type": "code",
   "execution_count": 44,
   "id": "69b532d9-5139-4ced-8665-11069d852dd0",
   "metadata": {},
   "outputs": [
    {
     "data": {
      "text/plain": [
       "array([[0.33743389, 0.66256611],\n",
       "       [0.90164492, 0.09835508],\n",
       "       [0.740058  , 0.259942  ],\n",
       "       [0.53963051, 0.46036949],\n",
       "       [0.81026035, 0.18973965],\n",
       "       [0.85484529, 0.14515471],\n",
       "       [0.54407058, 0.45592942],\n",
       "       [0.9242643 , 0.0757357 ],\n",
       "       [0.36227241, 0.63772759],\n",
       "       [0.91519934, 0.08480066],\n",
       "       [0.24509263, 0.75490737],\n",
       "       [0.53439685, 0.46560315],\n",
       "       [0.94236849, 0.05763151],\n",
       "       [0.44039766, 0.55960234],\n",
       "       [0.73456378, 0.26543622],\n",
       "       [0.90467069, 0.09532931],\n",
       "       [0.06517116, 0.93482884],\n",
       "       [0.60883675, 0.39116325],\n",
       "       [0.38320038, 0.61679962],\n",
       "       [0.91370945, 0.08629055],\n",
       "       [0.65556596, 0.34443404],\n",
       "       [0.7178171 , 0.2821829 ],\n",
       "       [0.57393877, 0.42606123],\n",
       "       [0.82546245, 0.17453755],\n",
       "       [0.7988021 , 0.2011979 ],\n",
       "       [0.36473673, 0.63526327],\n",
       "       [0.8577693 , 0.1422307 ],\n",
       "       [0.33566192, 0.66433808],\n",
       "       [0.22691992, 0.77308008],\n",
       "       [0.83253213, 0.16746787],\n",
       "       [0.8449383 , 0.1550617 ],\n",
       "       [0.36179151, 0.63820849],\n",
       "       [0.61237854, 0.38762146],\n",
       "       [0.85125809, 0.14874191],\n",
       "       [0.78344135, 0.21655865],\n",
       "       [0.91124849, 0.08875151],\n",
       "       [0.70089612, 0.29910388],\n",
       "       [0.77527185, 0.22472815],\n",
       "       [0.54757094, 0.45242906],\n",
       "       [0.86559926, 0.13440074],\n",
       "       [0.79940924, 0.20059076],\n",
       "       [0.57529618, 0.42470382],\n",
       "       [0.4765285 , 0.5234715 ],\n",
       "       [0.25016531, 0.74983469],\n",
       "       [0.69419169, 0.30580831],\n",
       "       [0.5276971 , 0.4723029 ],\n",
       "       [0.52333746, 0.47666254],\n",
       "       [0.35345411, 0.64654589],\n",
       "       [0.79927875, 0.20072125],\n",
       "       [0.75401586, 0.24598414],\n",
       "       [0.82383405, 0.17616595],\n",
       "       [0.22301748, 0.77698252],\n",
       "       [0.52461194, 0.47538806],\n",
       "       [0.67802501, 0.32197499],\n",
       "       [0.89904155, 0.10095845],\n",
       "       [0.84237307, 0.15762693],\n",
       "       [0.96219963, 0.03780037],\n",
       "       [0.44766876, 0.55233124],\n",
       "       [0.37965885, 0.62034115],\n",
       "       [0.19233141, 0.80766859],\n",
       "       [0.35348221, 0.64651779],\n",
       "       [0.35529871, 0.64470129],\n",
       "       [0.89277249, 0.10722751],\n",
       "       [0.86827539, 0.13172461],\n",
       "       [0.69536892, 0.30463108],\n",
       "       [0.80973698, 0.19026302],\n",
       "       [0.93721366, 0.06278634],\n",
       "       [0.71316951, 0.28683049],\n",
       "       [0.48127569, 0.51872431],\n",
       "       [0.93350112, 0.06649888],\n",
       "       [0.64237125, 0.35762875],\n",
       "       [0.68552981, 0.31447019],\n",
       "       [0.91648748, 0.08351252],\n",
       "       [0.77054762, 0.22945238],\n",
       "       [0.91613447, 0.08386553],\n",
       "       [0.85272572, 0.14727428],\n",
       "       [0.58927203, 0.41072797],\n",
       "       [0.71273155, 0.28726845],\n",
       "       [0.82703054, 0.17296946],\n",
       "       [0.92561554, 0.07438446],\n",
       "       [0.82780796, 0.17219204],\n",
       "       [0.74609836, 0.25390164],\n",
       "       [0.17896572, 0.82103428],\n",
       "       [0.88272742, 0.11727258],\n",
       "       [0.07584898, 0.92415102],\n",
       "       [0.80334868, 0.19665132],\n",
       "       [0.44661968, 0.55338032],\n",
       "       [0.81402496, 0.18597504],\n",
       "       [0.86305385, 0.13694615],\n",
       "       [0.91350272, 0.08649728],\n",
       "       [0.43139682, 0.56860318],\n",
       "       [0.75195339, 0.24804661],\n",
       "       [0.79612692, 0.20387308],\n",
       "       [0.77043818, 0.22956182],\n",
       "       [0.66039595, 0.33960405],\n",
       "       [0.67685714, 0.32314286],\n",
       "       [0.08204468, 0.91795532],\n",
       "       [0.56880404, 0.43119596],\n",
       "       [0.37998367, 0.62001633],\n",
       "       [0.78646131, 0.21353869],\n",
       "       [0.09257393, 0.90742607],\n",
       "       [0.3447209 , 0.6552791 ],\n",
       "       [0.2475804 , 0.7524196 ],\n",
       "       [0.2508562 , 0.7491438 ],\n",
       "       [0.83617648, 0.16382352],\n",
       "       [0.96135356, 0.03864644],\n",
       "       [0.72636427, 0.27363573],\n",
       "       [0.60438234, 0.39561766],\n",
       "       [0.35711289, 0.64288711],\n",
       "       [0.20774726, 0.79225274],\n",
       "       [0.36239917, 0.63760083],\n",
       "       [0.79423042, 0.20576958],\n",
       "       [0.81389576, 0.18610424],\n",
       "       [0.32050584, 0.67949416],\n",
       "       [0.9131341 , 0.0868659 ],\n",
       "       [0.54182737, 0.45817263],\n",
       "       [0.84777788, 0.15222212],\n",
       "       [0.11724445, 0.88275555],\n",
       "       [0.86714408, 0.13285592],\n",
       "       [0.84812956, 0.15187044],\n",
       "       [0.8228218 , 0.1771782 ],\n",
       "       [0.86554168, 0.13445832],\n",
       "       [0.97279157, 0.02720843],\n",
       "       [0.7342521 , 0.2657479 ],\n",
       "       [0.83879247, 0.16120753],\n",
       "       [0.86478424, 0.13521576],\n",
       "       [0.67813188, 0.32186812],\n",
       "       [0.83464183, 0.16535817],\n",
       "       [0.68098194, 0.31901806],\n",
       "       [0.90945085, 0.09054915],\n",
       "       [0.65478625, 0.34521375],\n",
       "       [0.89103971, 0.10896029],\n",
       "       [0.84293075, 0.15706925],\n",
       "       [0.76673219, 0.23326781],\n",
       "       [0.84800837, 0.15199163],\n",
       "       [0.46191279, 0.53808721],\n",
       "       [0.91505476, 0.08494524],\n",
       "       [0.87100645, 0.12899355],\n",
       "       [0.80225734, 0.19774266],\n",
       "       [0.16816098, 0.83183902],\n",
       "       [0.83531794, 0.16468206],\n",
       "       [0.17573401, 0.82426599],\n",
       "       [0.9058098 , 0.0941902 ],\n",
       "       [0.90542498, 0.09457502],\n",
       "       [0.29143766, 0.70856234],\n",
       "       [0.7673627 , 0.2326373 ],\n",
       "       [0.93524189, 0.06475811],\n",
       "       [0.75791643, 0.24208357],\n",
       "       [0.86210844, 0.13789156],\n",
       "       [0.5683939 , 0.4316061 ],\n",
       "       [0.83348931, 0.16651069],\n",
       "       [0.52583149, 0.47416851],\n",
       "       [0.16704579, 0.83295421],\n",
       "       [0.90144328, 0.09855672],\n",
       "       [0.67868138, 0.32131862],\n",
       "       [0.18548028, 0.81451972],\n",
       "       [0.78904464, 0.21095536],\n",
       "       [0.93518153, 0.06481847],\n",
       "       [0.66867756, 0.33132244],\n",
       "       [0.79848836, 0.20151164],\n",
       "       [0.15239368, 0.84760632],\n",
       "       [0.64485664, 0.35514336],\n",
       "       [0.92339198, 0.07660802],\n",
       "       [0.59917582, 0.40082418],\n",
       "       [0.86360873, 0.13639127],\n",
       "       [0.87737473, 0.12262527],\n",
       "       [0.83408578, 0.16591422],\n",
       "       [0.71581064, 0.28418936],\n",
       "       [0.31399926, 0.68600074],\n",
       "       [0.66867148, 0.33132852],\n",
       "       [0.8048403 , 0.1951597 ],\n",
       "       [0.41441552, 0.58558448],\n",
       "       [0.82049378, 0.17950622],\n",
       "       [0.50496136, 0.49503864],\n",
       "       [0.70480316, 0.29519684],\n",
       "       [0.67138832, 0.32861168],\n",
       "       [0.89550216, 0.10449784],\n",
       "       [0.23249876, 0.76750124],\n",
       "       [0.83987553, 0.16012447],\n",
       "       [0.76062924, 0.23937076],\n",
       "       [0.89911537, 0.10088463],\n",
       "       [0.3366526 , 0.6633474 ],\n",
       "       [0.37215215, 0.62784785],\n",
       "       [0.7558489 , 0.2441511 ],\n",
       "       [0.56204255, 0.43795745],\n",
       "       [0.65735894, 0.34264106],\n",
       "       [0.49132892, 0.50867108],\n",
       "       [0.90840982, 0.09159018],\n",
       "       [0.79626324, 0.20373676],\n",
       "       [0.88843682, 0.11156318],\n",
       "       [0.91514315, 0.08485685],\n",
       "       [0.50504096, 0.49495904]])"
      ]
     },
     "execution_count": 44,
     "metadata": {},
     "output_type": "execute_result"
    }
   ],
   "source": [
    "y_pred_prob"
   ]
  },
  {
   "cell_type": "code",
   "execution_count": 45,
   "id": "410ec833-d15a-4a88-a778-ea022bfb7712",
   "metadata": {},
   "outputs": [],
   "source": [
    "from sklearn.metrics import confusion_matrix,accuracy_score, precision_score,f1_score,classification_report,recall_score,roc_auc_score,roc_curve"
   ]
  },
  {
   "cell_type": "code",
   "execution_count": 46,
   "id": "901199fe-d3cd-4cdd-bae7-083c3d5e2fb0",
   "metadata": {},
   "outputs": [
    {
     "data": {
      "text/plain": [
       "array([[113,  17],\n",
       "       [ 31,  31]], dtype=int64)"
      ]
     },
     "execution_count": 46,
     "metadata": {},
     "output_type": "execute_result"
    }
   ],
   "source": [
    "cm=confusion_matrix(y_test,y_pred)\n",
    "cm"
   ]
  },
  {
   "cell_type": "code",
   "execution_count": 47,
   "id": "9f37a8af-8d4f-4e49-bf28-5f3846a26039",
   "metadata": {},
   "outputs": [
    {
     "data": {
      "text/html": [
       "<div>\n",
       "<style scoped>\n",
       "    .dataframe tbody tr th:only-of-type {\n",
       "        vertical-align: middle;\n",
       "    }\n",
       "\n",
       "    .dataframe tbody tr th {\n",
       "        vertical-align: top;\n",
       "    }\n",
       "\n",
       "    .dataframe thead th {\n",
       "        text-align: right;\n",
       "    }\n",
       "</style>\n",
       "<table border=\"1\" class=\"dataframe\">\n",
       "  <thead>\n",
       "    <tr style=\"text-align: right;\">\n",
       "      <th>col_0</th>\n",
       "      <th>0</th>\n",
       "      <th>1</th>\n",
       "    </tr>\n",
       "    <tr>\n",
       "      <th>Outcome</th>\n",
       "      <th></th>\n",
       "      <th></th>\n",
       "    </tr>\n",
       "  </thead>\n",
       "  <tbody>\n",
       "    <tr>\n",
       "      <th>0</th>\n",
       "      <td>113</td>\n",
       "      <td>17</td>\n",
       "    </tr>\n",
       "    <tr>\n",
       "      <th>1</th>\n",
       "      <td>31</td>\n",
       "      <td>31</td>\n",
       "    </tr>\n",
       "  </tbody>\n",
       "</table>\n",
       "</div>"
      ],
      "text/plain": [
       "col_0      0   1\n",
       "Outcome         \n",
       "0        113  17\n",
       "1         31  31"
      ]
     },
     "execution_count": 47,
     "metadata": {},
     "output_type": "execute_result"
    }
   ],
   "source": [
    "pd.crosstab(y_test,y_pred)"
   ]
  },
  {
   "cell_type": "code",
   "execution_count": 48,
   "id": "ad0ff57e-8048-4674-a6e9-04c50618b079",
   "metadata": {},
   "outputs": [
    {
     "data": {
      "text/plain": [
       "0.5"
      ]
     },
     "execution_count": 48,
     "metadata": {},
     "output_type": "execute_result"
    }
   ],
   "source": [
    "recall=recall_score(y_test,y_pred)\n",
    "recall"
   ]
  },
  {
   "cell_type": "code",
   "execution_count": 49,
   "id": "080a6e3d-2a44-4b1f-9fc0-dcc1e467dc29",
   "metadata": {},
   "outputs": [
    {
     "data": {
      "text/plain": [
       "0.6458333333333334"
      ]
     },
     "execution_count": 49,
     "metadata": {},
     "output_type": "execute_result"
    }
   ],
   "source": [
    "precision=precision_score(y_test,y_pred)\n",
    "precision"
   ]
  },
  {
   "cell_type": "code",
   "execution_count": 50,
   "id": "596d1c9f-11a6-4ba3-8b0d-ee8c95241ca8",
   "metadata": {},
   "outputs": [
    {
     "data": {
      "text/plain": [
       "0.75"
      ]
     },
     "execution_count": 50,
     "metadata": {},
     "output_type": "execute_result"
    }
   ],
   "source": [
    "accuracy=accuracy_score(y_test,y_pred)\n",
    "accuracy"
   ]
  },
  {
   "cell_type": "code",
   "execution_count": 51,
   "id": "467259d8-c6cd-4ecd-9a04-356c1af5b863",
   "metadata": {},
   "outputs": [
    {
     "data": {
      "text/plain": [
       "0.5636363636363636"
      ]
     },
     "execution_count": 51,
     "metadata": {},
     "output_type": "execute_result"
    }
   ],
   "source": [
    "f1score=f1_score(y_test,y_pred)\n",
    "f1score"
   ]
  },
  {
   "cell_type": "code",
   "execution_count": 52,
   "id": "6ad9aadb-ec55-49a7-bd34-822c377a87c4",
   "metadata": {},
   "outputs": [
    {
     "name": "stdout",
     "output_type": "stream",
     "text": [
      "              precision    recall  f1-score   support\n",
      "\n",
      "           0       0.78      0.87      0.82       130\n",
      "           1       0.65      0.50      0.56        62\n",
      "\n",
      "    accuracy                           0.75       192\n",
      "   macro avg       0.72      0.68      0.69       192\n",
      "weighted avg       0.74      0.75      0.74       192\n",
      "\n"
     ]
    }
   ],
   "source": [
    "cr=classification_report(y_test,y_pred)\n",
    "print(cr)"
   ]
  },
  {
   "cell_type": "code",
   "execution_count": 53,
   "id": "dc9eee1b-8192-4746-892c-56808e86b337",
   "metadata": {},
   "outputs": [
    {
     "data": {
      "text/plain": [
       "Outcome\n",
       "0    130\n",
       "1     62\n",
       "Name: count, dtype: int64"
      ]
     },
     "execution_count": 53,
     "metadata": {},
     "output_type": "execute_result"
    }
   ],
   "source": [
    "y_test.value_counts()"
   ]
  },
  {
   "cell_type": "code",
   "execution_count": 54,
   "id": "a5d030d6-466b-4bf1-b680-e8b00235cbb0",
   "metadata": {},
   "outputs": [
    {
     "data": {
      "text/plain": [
       "0.6846153846153846"
      ]
     },
     "execution_count": 54,
     "metadata": {},
     "output_type": "execute_result"
    }
   ],
   "source": [
    "roc_auc_score(y_test,y_pred)"
   ]
  },
  {
   "cell_type": "code",
   "execution_count": 63,
   "id": "3e7831c4-b25b-431e-907d-022ae83c2dd3",
   "metadata": {},
   "outputs": [
    {
     "data": {
      "image/png": "[encoded data removed]",
      "text/plain": [
       "<Figure size 640x480 with 1 Axes>"
      ]
     },
     "metadata": {},
     "output_type": "display_data"
    }
   ],
   "source": [
    "import matplotlib.pyplot as plt\n",
    "from sklearn.metrics import roc_curve\n",
    "y_predic=clf.predict_proba(X_test)[:,1]\n",
    "fpr,tpr,threshholds=roc_curve(y_test, y_predic)\n",
    "plt.plot(fpr,tpr,color='green')\n",
    "plt.show()"
   ]
  },
  {
   "cell_type": "code",
   "execution_count": 64,
   "id": "b58ebb9f-35eb-4f06-a592-e0a908df6824",
   "metadata": {},
   "outputs": [
    {
     "data": {
      "text/plain": [
       "Outcome\n",
       "0    130\n",
       "1     62\n",
       "Name: count, dtype: int64"
      ]
     },
     "execution_count": 64,
     "metadata": {},
     "output_type": "execute_result"
    }
   ],
   "source": [
    "y_test.value_counts()"
   ]
  },
  {
   "cell_type": "markdown",
   "id": "30da2970-03ee-4d1e-8d21-9457e8607af6",
   "metadata": {},
   "source": [
    "# Multiclass Classification"
   ]
  },
  {
   "cell_type": "code",
   "execution_count": 106,
   "id": "0afea68d-14bd-4392-8596-4a2119dc6990",
   "metadata": {},
   "outputs": [],
   "source": [
    "df_iris=pd.read_csv(\"E:\\\\Data Scientist\\\\Datasets\\\\iris.csv\")"
   ]
  },
  {
   "cell_type": "code",
   "execution_count": 107,
   "id": "94a368fd-6529-4275-ac82-81fceb19cc62",
   "metadata": {},
   "outputs": [
    {
     "data": {
      "text/html": [
       "<div>\n",
       "<style scoped>\n",
       "    .dataframe tbody tr th:only-of-type {\n",
       "        vertical-align: middle;\n",
       "    }\n",
       "\n",
       "    .dataframe tbody tr th {\n",
       "        vertical-align: top;\n",
       "    }\n",
       "\n",
       "    .dataframe thead th {\n",
       "        text-align: right;\n",
       "    }\n",
       "</style>\n",
       "<table border=\"1\" class=\"dataframe\">\n",
       "  <thead>\n",
       "    <tr style=\"text-align: right;\">\n",
       "      <th></th>\n",
       "      <th>sepal_length</th>\n",
       "      <th>sepal_width</th>\n",
       "      <th>petal_length,</th>\n",
       "      <th>petal_width</th>\n",
       "      <th>species</th>\n",
       "    </tr>\n",
       "  </thead>\n",
       "  <tbody>\n",
       "    <tr>\n",
       "      <th>0</th>\n",
       "      <td>5.1</td>\n",
       "      <td>3.5</td>\n",
       "      <td>1.4</td>\n",
       "      <td>0.2</td>\n",
       "      <td>Iris-setosa</td>\n",
       "    </tr>\n",
       "    <tr>\n",
       "      <th>1</th>\n",
       "      <td>4.9</td>\n",
       "      <td>3.0</td>\n",
       "      <td>1.4</td>\n",
       "      <td>0.2</td>\n",
       "      <td>Iris-setosa</td>\n",
       "    </tr>\n",
       "    <tr>\n",
       "      <th>2</th>\n",
       "      <td>4.7</td>\n",
       "      <td>3.2</td>\n",
       "      <td>1.3</td>\n",
       "      <td>0.2</td>\n",
       "      <td>Iris-setosa</td>\n",
       "    </tr>\n",
       "    <tr>\n",
       "      <th>3</th>\n",
       "      <td>4.6</td>\n",
       "      <td>3.1</td>\n",
       "      <td>1.5</td>\n",
       "      <td>0.2</td>\n",
       "      <td>Iris-setosa</td>\n",
       "    </tr>\n",
       "    <tr>\n",
       "      <th>4</th>\n",
       "      <td>5.0</td>\n",
       "      <td>3.6</td>\n",
       "      <td>1.4</td>\n",
       "      <td>0.2</td>\n",
       "      <td>Iris-setosa</td>\n",
       "    </tr>\n",
       "  </tbody>\n",
       "</table>\n",
       "</div>"
      ],
      "text/plain": [
       "   sepal_length  sepal_width  petal_length,  petal_width      species\n",
       "0           5.1          3.5            1.4          0.2  Iris-setosa\n",
       "1           4.9          3.0            1.4          0.2  Iris-setosa\n",
       "2           4.7          3.2            1.3          0.2  Iris-setosa\n",
       "3           4.6          3.1            1.5          0.2  Iris-setosa\n",
       "4           5.0          3.6            1.4          0.2  Iris-setosa"
      ]
     },
     "execution_count": 107,
     "metadata": {},
     "output_type": "execute_result"
    }
   ],
   "source": [
    "df_iris.head()"
   ]
  },
  {
   "cell_type": "code",
   "execution_count": 108,
   "id": "a400771e-3a3f-4ca4-a1f8-57dcfb8895b5",
   "metadata": {},
   "outputs": [
    {
     "data": {
      "text/plain": [
       "(150, 5)"
      ]
     },
     "execution_count": 108,
     "metadata": {},
     "output_type": "execute_result"
    }
   ],
   "source": [
    "df_iris.shape"
   ]
  },
  {
   "cell_type": "code",
   "execution_count": 109,
   "id": "14c98d84-4030-412a-9125-a30fa2e8b64b",
   "metadata": {},
   "outputs": [
    {
     "data": {
      "text/plain": [
       "species\n",
       "Iris-setosa        50\n",
       "Iris-versicolor    50\n",
       "Iris-virginica     50\n",
       "Name: count, dtype: int64"
      ]
     },
     "execution_count": 109,
     "metadata": {},
     "output_type": "execute_result"
    }
   ],
   "source": [
    "df_iris.species.value_counts()"
   ]
  },
  {
   "cell_type": "code",
   "execution_count": 127,
   "id": "81e5f26d-b100-4404-999b-c31b6521cf27",
   "metadata": {},
   "outputs": [
    {
     "data": {
      "text/plain": [
       "sepal_length     0\n",
       "sepal_width      0\n",
       "petal_length,    0\n",
       "petal_width      0\n",
       "species          0\n",
       "dtype: int64"
      ]
     },
     "execution_count": 127,
     "metadata": {},
     "output_type": "execute_result"
    }
   ],
   "source": [
    "df_iris.isnull().sum()"
   ]
  },
  {
   "cell_type": "code",
   "execution_count": 128,
   "id": "3835e505-1992-4a14-b88d-d412e5136c73",
   "metadata": {},
   "outputs": [
    {
     "data": {
      "text/html": [
       "<div>\n",
       "<style scoped>\n",
       "    .dataframe tbody tr th:only-of-type {\n",
       "        vertical-align: middle;\n",
       "    }\n",
       "\n",
       "    .dataframe tbody tr th {\n",
       "        vertical-align: top;\n",
       "    }\n",
       "\n",
       "    .dataframe thead th {\n",
       "        text-align: right;\n",
       "    }\n",
       "</style>\n",
       "<table border=\"1\" class=\"dataframe\">\n",
       "  <thead>\n",
       "    <tr style=\"text-align: right;\">\n",
       "      <th></th>\n",
       "      <th>sepal_length</th>\n",
       "      <th>sepal_width</th>\n",
       "      <th>petal_length,</th>\n",
       "      <th>petal_width</th>\n",
       "    </tr>\n",
       "  </thead>\n",
       "  <tbody>\n",
       "    <tr>\n",
       "      <th>0</th>\n",
       "      <td>5.1</td>\n",
       "      <td>3.5</td>\n",
       "      <td>1.4</td>\n",
       "      <td>0.2</td>\n",
       "    </tr>\n",
       "    <tr>\n",
       "      <th>1</th>\n",
       "      <td>4.9</td>\n",
       "      <td>3.0</td>\n",
       "      <td>1.4</td>\n",
       "      <td>0.2</td>\n",
       "    </tr>\n",
       "    <tr>\n",
       "      <th>2</th>\n",
       "      <td>4.7</td>\n",
       "      <td>3.2</td>\n",
       "      <td>1.3</td>\n",
       "      <td>0.2</td>\n",
       "    </tr>\n",
       "    <tr>\n",
       "      <th>3</th>\n",
       "      <td>4.6</td>\n",
       "      <td>3.1</td>\n",
       "      <td>1.5</td>\n",
       "      <td>0.2</td>\n",
       "    </tr>\n",
       "    <tr>\n",
       "      <th>4</th>\n",
       "      <td>5.0</td>\n",
       "      <td>3.6</td>\n",
       "      <td>1.4</td>\n",
       "      <td>0.2</td>\n",
       "    </tr>\n",
       "    <tr>\n",
       "      <th>...</th>\n",
       "      <td>...</td>\n",
       "      <td>...</td>\n",
       "      <td>...</td>\n",
       "      <td>...</td>\n",
       "    </tr>\n",
       "    <tr>\n",
       "      <th>145</th>\n",
       "      <td>6.7</td>\n",
       "      <td>3.0</td>\n",
       "      <td>5.2</td>\n",
       "      <td>2.3</td>\n",
       "    </tr>\n",
       "    <tr>\n",
       "      <th>146</th>\n",
       "      <td>6.3</td>\n",
       "      <td>2.5</td>\n",
       "      <td>5.0</td>\n",
       "      <td>1.9</td>\n",
       "    </tr>\n",
       "    <tr>\n",
       "      <th>147</th>\n",
       "      <td>6.5</td>\n",
       "      <td>3.0</td>\n",
       "      <td>5.2</td>\n",
       "      <td>2.0</td>\n",
       "    </tr>\n",
       "    <tr>\n",
       "      <th>148</th>\n",
       "      <td>6.2</td>\n",
       "      <td>3.4</td>\n",
       "      <td>5.4</td>\n",
       "      <td>2.3</td>\n",
       "    </tr>\n",
       "    <tr>\n",
       "      <th>149</th>\n",
       "      <td>5.9</td>\n",
       "      <td>3.0</td>\n",
       "      <td>5.1</td>\n",
       "      <td>1.8</td>\n",
       "    </tr>\n",
       "  </tbody>\n",
       "</table>\n",
       "<p>150 rows × 4 columns</p>\n",
       "</div>"
      ],
      "text/plain": [
       "     sepal_length  sepal_width  petal_length,  petal_width\n",
       "0             5.1          3.5            1.4          0.2\n",
       "1             4.9          3.0            1.4          0.2\n",
       "2             4.7          3.2            1.3          0.2\n",
       "3             4.6          3.1            1.5          0.2\n",
       "4             5.0          3.6            1.4          0.2\n",
       "..            ...          ...            ...          ...\n",
       "145           6.7          3.0            5.2          2.3\n",
       "146           6.3          2.5            5.0          1.9\n",
       "147           6.5          3.0            5.2          2.0\n",
       "148           6.2          3.4            5.4          2.3\n",
       "149           5.9          3.0            5.1          1.8\n",
       "\n",
       "[150 rows x 4 columns]"
      ]
     },
     "execution_count": 128,
     "metadata": {},
     "output_type": "execute_result"
    }
   ],
   "source": [
    "X11=df_iris.iloc[:,:-1]\n",
    "X1"
   ]
  },
  {
   "cell_type": "code",
   "execution_count": 129,
   "id": "89b3591b-e824-404e-98b8-2ea5355ad2bd",
   "metadata": {},
   "outputs": [
    {
     "name": "stdout",
     "output_type": "stream",
     "text": [
      "0         Iris-setosa\n",
      "1         Iris-setosa\n",
      "2         Iris-setosa\n",
      "3         Iris-setosa\n",
      "4         Iris-setosa\n",
      "            ...      \n",
      "145    Iris-virginica\n",
      "146    Iris-virginica\n",
      "147    Iris-virginica\n",
      "148    Iris-virginica\n",
      "149    Iris-virginica\n",
      "Name: species, Length: 150, dtype: object\n"
     ]
    }
   ],
   "source": [
    "Y1=df_iris.species\n",
    "print(Y1)"
   ]
  },
  {
   "cell_type": "markdown",
   "id": "26241f64-d3bb-4bb8-812f-6ce08d51bcc4",
   "metadata": {},
   "source": [
    " # Label encoder   and One Hot Encoder :  both Convert Categorical columnn to numerical\n",
    " ### One hot encoder is not used when number of dimension is more  so columns created will be more \n",
    "\n",
    "## Label Enncoder\n",
    "In label Encoder first it will first order categories( here Setosa, versicolr,virginica)  in albhabetical order ad then assign category 0,1,2,...\n",
    "Used when impact is unknown on target | \n",
    "For nominal variables as well ( Gender) it may be option\n",
    "\n",
    "## One Hot Encoder \n",
    " Depending on number of entries , here 150 it will create column for each category  | creation of new features\n",
    "                                                                \n",
    "          Setosa  Versicolor Verginica\n",
    " #####Setosa        1       0           0                                                       \n",
    "##### Versicolor    0       1           0\n",
    "##### Verginica     0       0           1\n",
    "and so on.\n",
    "\n",
    "## Frequency Encoding Encoder \n",
    "\n",
    "Based on frequency\n",
    "\n",
    "Single   250                                       --1\n",
    "Married  600  Highest Frequency highest weightage  --2 \n",
    "Divorced 150   Least Frequency Least weightage  -- 0\n"
   ]
  },
  {
   "cell_type": "code",
   "execution_count": 130,
   "id": "1b516dcd-d4d6-47d9-b0ec-28a917bda6ed",
   "metadata": {},
   "outputs": [],
   "source": [
    "from sklearn.preprocessing import LabelEncoder\n",
    "lc=LabelEncoder()\n",
    "y_new=lc.fit_transform(Y1)"
   ]
  },
  {
   "cell_type": "code",
   "execution_count": 131,
   "id": "6443c6ea-08e4-46c6-8772-83de4692ead7",
   "metadata": {
    "scrolled": true
   },
   "outputs": [
    {
     "data": {
      "text/plain": [
       "array([0, 0, 0, 0, 0, 0, 0, 0, 0, 0, 0, 0, 0, 0, 0, 0, 0, 0, 0, 0, 0, 0,\n",
       "       0, 0, 0, 0, 0, 0, 0, 0, 0, 0, 0, 0, 0, 0, 0, 0, 0, 0, 0, 0, 0, 0,\n",
       "       0, 0, 0, 0, 0, 0, 1, 1, 1, 1, 1, 1, 1, 1, 1, 1, 1, 1, 1, 1, 1, 1,\n",
       "       1, 1, 1, 1, 1, 1, 1, 1, 1, 1, 1, 1, 1, 1, 1, 1, 1, 1, 1, 1, 1, 1,\n",
       "       1, 1, 1, 1, 1, 1, 1, 1, 1, 1, 1, 1, 2, 2, 2, 2, 2, 2, 2, 2, 2, 2,\n",
       "       2, 2, 2, 2, 2, 2, 2, 2, 2, 2, 2, 2, 2, 2, 2, 2, 2, 2, 2, 2, 2, 2,\n",
       "       2, 2, 2, 2, 2, 2, 2, 2, 2, 2, 2, 2, 2, 2, 2, 2, 2, 2])"
      ]
     },
     "execution_count": 131,
     "metadata": {},
     "output_type": "execute_result"
    }
   ],
   "source": [
    "y_new"
   ]
  },
  {
   "cell_type": "code",
   "execution_count": 132,
   "id": "a46807c1-eec9-4f57-8a2d-2b078b7ad814",
   "metadata": {},
   "outputs": [
    {
     "data": {
      "text/html": [
       "<div>\n",
       "<style scoped>\n",
       "    .dataframe tbody tr th:only-of-type {\n",
       "        vertical-align: middle;\n",
       "    }\n",
       "\n",
       "    .dataframe tbody tr th {\n",
       "        vertical-align: top;\n",
       "    }\n",
       "\n",
       "    .dataframe thead th {\n",
       "        text-align: right;\n",
       "    }\n",
       "</style>\n",
       "<table border=\"1\" class=\"dataframe\">\n",
       "  <thead>\n",
       "    <tr style=\"text-align: right;\">\n",
       "      <th></th>\n",
       "      <th>species</th>\n",
       "    </tr>\n",
       "  </thead>\n",
       "  <tbody>\n",
       "    <tr>\n",
       "      <th>0</th>\n",
       "      <td>0</td>\n",
       "    </tr>\n",
       "    <tr>\n",
       "      <th>1</th>\n",
       "      <td>0</td>\n",
       "    </tr>\n",
       "    <tr>\n",
       "      <th>2</th>\n",
       "      <td>0</td>\n",
       "    </tr>\n",
       "    <tr>\n",
       "      <th>3</th>\n",
       "      <td>0</td>\n",
       "    </tr>\n",
       "    <tr>\n",
       "      <th>4</th>\n",
       "      <td>0</td>\n",
       "    </tr>\n",
       "    <tr>\n",
       "      <th>...</th>\n",
       "      <td>...</td>\n",
       "    </tr>\n",
       "    <tr>\n",
       "      <th>145</th>\n",
       "      <td>2</td>\n",
       "    </tr>\n",
       "    <tr>\n",
       "      <th>146</th>\n",
       "      <td>2</td>\n",
       "    </tr>\n",
       "    <tr>\n",
       "      <th>147</th>\n",
       "      <td>2</td>\n",
       "    </tr>\n",
       "    <tr>\n",
       "      <th>148</th>\n",
       "      <td>2</td>\n",
       "    </tr>\n",
       "    <tr>\n",
       "      <th>149</th>\n",
       "      <td>2</td>\n",
       "    </tr>\n",
       "  </tbody>\n",
       "</table>\n",
       "<p>150 rows × 1 columns</p>\n",
       "</div>"
      ],
      "text/plain": [
       "     species\n",
       "0          0\n",
       "1          0\n",
       "2          0\n",
       "3          0\n",
       "4          0\n",
       "..       ...\n",
       "145        2\n",
       "146        2\n",
       "147        2\n",
       "148        2\n",
       "149        2\n",
       "\n",
       "[150 rows x 1 columns]"
      ]
     },
     "execution_count": 132,
     "metadata": {},
     "output_type": "execute_result"
    }
   ],
   "source": [
    "#covert back to dataframe\n",
    "Y1=pd.DataFrame(y_new,columns=['species'])\n",
    "Y1"
   ]
  },
  {
   "cell_type": "code",
   "execution_count": 133,
   "id": "19ebec47-d3f7-457e-ab95-3f0ec4560a9e",
   "metadata": {},
   "outputs": [],
   "source": [
    "# Training ad Testing Data\n",
    "\n",
    "from sklearn.model_selection import train_test_split\n",
    "X_tr,X_tst,y_tr,y_tst =train_test_split(X1,Y1,random_state=20)"
   ]
  },
  {
   "cell_type": "code",
   "execution_count": 134,
   "id": "ac737892-4985-411b-8ed5-b6794fc39e38",
   "metadata": {},
   "outputs": [
    {
     "data": {
      "text/plain": [
       "sepal_length  sepal_width  petal_length,  petal_width\n",
       "5.8           2.7          5.1            1.9            2\n",
       "4.9           3.1          1.5            0.1            2\n",
       "6.2           2.9          4.3            1.3            1\n",
       "6.4           3.1          5.5            1.8            1\n",
       "              2.8          5.6            2.2            1\n",
       "                                                        ..\n",
       "5.4           3.9          1.3            0.4            1\n",
       "              3.7          1.5            0.2            1\n",
       "              3.4          1.5            0.4            1\n",
       "              3.0          4.5            1.5            1\n",
       "7.9           3.8          6.4            2.0            1\n",
       "Name: count, Length: 110, dtype: int64"
      ]
     },
     "execution_count": 134,
     "metadata": {},
     "output_type": "execute_result"
    }
   ],
   "source": [
    "X_tr.value_counts()"
   ]
  },
  {
   "cell_type": "code",
   "execution_count": 135,
   "id": "06b3a259-bb83-4b0f-9da8-88e18f5063fe",
   "metadata": {},
   "outputs": [],
   "source": [
    "lr_mul= LogisticRegression()"
   ]
  },
  {
   "cell_type": "code",
   "execution_count": 136,
   "id": "9b02b47d-de1d-4312-bd9a-eb84610b5f96",
   "metadata": {},
   "outputs": [
    {
     "name": "stderr",
     "output_type": "stream",
     "text": [
      "C:\\Python11x\\Lib\\site-packages\\sklearn\\utils\\validation.py:1184: DataConversionWarning: A column-vector y was passed when a 1d array was expected. Please change the shape of y to (n_samples, ), for example using ravel().\n",
      "  y = column_or_1d(y, warn=True)\n"
     ]
    },
    {
     "data": {
      "text/html": [
       "<style>#sk-container-id-4 {color: black;}#sk-container-id-4 pre{padding: 0;}#sk-container-id-4 div.sk-toggleable {background-color: white;}#sk-container-id-4 label.sk-toggleable__label {cursor: pointer;display: block;width: 100%;margin-bottom: 0;padding: 0.3em;box-sizing: border-box;text-align: center;}#sk-container-id-4 label.sk-toggleable__label-arrow:before {content: \"▸\";float: left;margin-right: 0.25em;color: #696969;}#sk-container-id-4 label.sk-toggleable__label-arrow:hover:before {color: black;}#sk-container-id-4 div.sk-estimator:hover label.sk-toggleable__label-arrow:before {color: black;}#sk-container-id-4 div.sk-toggleable__content {max-height: 0;max-width: 0;overflow: hidden;text-align: left;background-color: #f0f8ff;}#sk-container-id-4 div.sk-toggleable__content pre {margin: 0.2em;color: black;border-radius: 0.25em;background-color: #f0f8ff;}#sk-container-id-4 input.sk-toggleable__control:checked~div.sk-toggleable__content {max-height: 200px;max-width: 100%;overflow: auto;}#sk-container-id-4 input.sk-toggleable__control:checked~label.sk-toggleable__label-arrow:before {content: \"▾\";}#sk-container-id-4 div.sk-estimator input.sk-toggleable__control:checked~label.sk-toggleable__label {background-color: #d4ebff;}#sk-container-id-4 div.sk-label input.sk-toggleable__control:checked~label.sk-toggleable__label {background-color: #d4ebff;}#sk-container-id-4 input.sk-hidden--visually {border: 0;clip: rect(1px 1px 1px 1px);clip: rect(1px, 1px, 1px, 1px);height: 1px;margin: -1px;overflow: hidden;padding: 0;position: absolute;width: 1px;}#sk-container-id-4 div.sk-estimator {font-family: monospace;background-color: #f0f8ff;border: 1px dotted black;border-radius: 0.25em;box-sizing: border-box;margin-bottom: 0.5em;}#sk-container-id-4 div.sk-estimator:hover {background-color: #d4ebff;}#sk-container-id-4 div.sk-parallel-item::after {content: \"\";width: 100%;border-bottom: 1px solid gray;flex-grow: 1;}#sk-container-id-4 div.sk-label:hover label.sk-toggleable__label {background-color: #d4ebff;}#sk-container-id-4 div.sk-serial::before {content: \"\";position: absolute;border-left: 1px solid gray;box-sizing: border-box;top: 0;bottom: 0;left: 50%;z-index: 0;}#sk-container-id-4 div.sk-serial {display: flex;flex-direction: column;align-items: center;background-color: white;padding-right: 0.2em;padding-left: 0.2em;position: relative;}#sk-container-id-4 div.sk-item {position: relative;z-index: 1;}#sk-container-id-4 div.sk-parallel {display: flex;align-items: stretch;justify-content: center;background-color: white;position: relative;}#sk-container-id-4 div.sk-item::before, #sk-container-id-4 div.sk-parallel-item::before {content: \"\";position: absolute;border-left: 1px solid gray;box-sizing: border-box;top: 0;bottom: 0;left: 50%;z-index: -1;}#sk-container-id-4 div.sk-parallel-item {display: flex;flex-direction: column;z-index: 1;position: relative;background-color: white;}#sk-container-id-4 div.sk-parallel-item:first-child::after {align-self: flex-end;width: 50%;}#sk-container-id-4 div.sk-parallel-item:last-child::after {align-self: flex-start;width: 50%;}#sk-container-id-4 div.sk-parallel-item:only-child::after {width: 0;}#sk-container-id-4 div.sk-dashed-wrapped {border: 1px dashed gray;margin: 0 0.4em 0.5em 0.4em;box-sizing: border-box;padding-bottom: 0.4em;background-color: white;}#sk-container-id-4 div.sk-label label {font-family: monospace;font-weight: bold;display: inline-block;line-height: 1.2em;}#sk-container-id-4 div.sk-label-container {text-align: center;}#sk-container-id-4 div.sk-container {/* jupyter's `normalize.less` sets `[hidden] { display: none; }` but bootstrap.min.css set `[hidden] { display: none !important; }` so we also need the `!important` here to be able to override the default hidden behavior on the sphinx rendered scikit-learn.org. See: https://github.com/scikit-learn/scikit-learn/issues/21755 */display: inline-block !important;position: relative;}#sk-container-id-4 div.sk-text-repr-fallback {display: none;}</style><div id=\"sk-container-id-4\" class=\"sk-top-container\"><div class=\"sk-text-repr-fallback\"><pre>LogisticRegression()</pre><b>In a Jupyter environment, please rerun this cell to show the HTML representation or trust the notebook. <br />On GitHub, the HTML representation is unable to render, please try loading this page with nbviewer.org.</b></div><div class=\"sk-container\" hidden><div class=\"sk-item\"><div class=\"sk-estimator sk-toggleable\"><input class=\"sk-toggleable__control sk-hidden--visually\" id=\"sk-estimator-id-4\" type=\"checkbox\" checked><label for=\"sk-estimator-id-4\" class=\"sk-toggleable__label sk-toggleable__label-arrow\">LogisticRegression</label><div class=\"sk-toggleable__content\"><pre>LogisticRegression()</pre></div></div></div></div></div>"
      ],
      "text/plain": [
       "LogisticRegression()"
      ]
     },
     "execution_count": 136,
     "metadata": {},
     "output_type": "execute_result"
    }
   ],
   "source": [
    "lr_mul.fit(X_tr,y_tr)"
   ]
  },
  {
   "cell_type": "code",
   "execution_count": 137,
   "id": "304f00c9-8a6a-4467-a989-e7463730bd51",
   "metadata": {},
   "outputs": [],
   "source": [
    "y1_predict=lr_mul.predict(X_tst)"
   ]
  },
  {
   "cell_type": "code",
   "execution_count": 138,
   "id": "b7aba4ad-c080-45d6-a855-c0ddf4a98b5d",
   "metadata": {},
   "outputs": [
    {
     "data": {
      "text/plain": [
       "array([0, 1, 1, 2, 1, 1, 2, 0, 2, 0, 2, 1, 1, 0, 0, 2, 0, 1, 2, 1, 1, 2,\n",
       "       2, 0, 1, 1, 1, 0, 2, 1, 1, 1, 0, 0, 0, 1, 1, 0])"
      ]
     },
     "execution_count": 138,
     "metadata": {},
     "output_type": "execute_result"
    }
   ],
   "source": [
    "y1_predict"
   ]
  },
  {
   "cell_type": "code",
   "execution_count": 139,
   "id": "8cc60411-24ed-4b6d-b6d6-4046abe30275",
   "metadata": {},
   "outputs": [
    {
     "name": "stdout",
     "output_type": "stream",
     "text": [
      "[[12  0  0]\n",
      " [ 0 14  0]\n",
      " [ 0  3  9]]\n"
     ]
    }
   ],
   "source": [
    "cm_mul=confusion_matrix(y_tst,y1_predict)\n",
    "print(cm_mul)"
   ]
  },
  {
   "cell_type": "code",
   "execution_count": 140,
   "id": "4f033c24-0055-4ef7-afa7-debd61fb0886",
   "metadata": {},
   "outputs": [
    {
     "data": {
      "text/plain": [
       "195    1\n",
       "51     0\n",
       "66     1\n",
       "437    0\n",
       "665    0\n",
       "      ..\n",
       "671    0\n",
       "422    0\n",
       "742    0\n",
       "331    0\n",
       "699    0\n",
       "Name: Outcome, Length: 192, dtype: int64"
      ]
     },
     "execution_count": 140,
     "metadata": {},
     "output_type": "execute_result"
    }
   ],
   "source": [
    "y_test"
   ]
  },
  {
   "cell_type": "code",
   "execution_count": 141,
   "id": "109d2e70-4c57-4304-b03e-0d771ca247b7",
   "metadata": {},
   "outputs": [
    {
     "data": {
      "text/plain": [
       "0.9192335677904439"
      ]
     },
     "execution_count": 141,
     "metadata": {},
     "output_type": "execute_result"
    }
   ],
   "source": [
    "f1score=f1_score(y_tst,y1_predict,average='weighted')\n",
    "f1score"
   ]
  },
  {
   "cell_type": "code",
   "execution_count": 142,
   "id": "854b48a7-d9ff-467c-9ad5-92e70ee4e86a",
   "metadata": {},
   "outputs": [
    {
     "name": "stdout",
     "output_type": "stream",
     "text": [
      "              precision    recall  f1-score   support\n",
      "\n",
      "           0       1.00      1.00      1.00        12\n",
      "           1       0.82      1.00      0.90        14\n",
      "           2       1.00      0.75      0.86        12\n",
      "\n",
      "    accuracy                           0.92        38\n",
      "   macro avg       0.94      0.92      0.92        38\n",
      "weighted avg       0.93      0.92      0.92        38\n",
      "\n"
     ]
    }
   ],
   "source": [
    "classfcnreport=classification_report(y_tst,y1_predict)\n",
    "print(classfcnreport)"
   ]
  },
  {
   "cell_type": "code",
   "execution_count": 143,
   "id": "bd49f121-f3d6-4bce-8a30-7674a2432194",
   "metadata": {},
   "outputs": [
    {
     "name": "stdout",
     "output_type": "stream",
     "text": [
      "[[12  0  0]\n",
      " [ 0 14  0]\n",
      " [ 0  3  9]]\n"
     ]
    }
   ],
   "source": [
    "conf_mtrx=confusion_matrix(y_tst,y1_predict)\n",
    "print(conf_mtrx)"
   ]
  },
  {
   "cell_type": "code",
   "execution_count": 144,
   "id": "39fa5294-fda5-414c-93be-e73ac7423d55",
   "metadata": {},
   "outputs": [
    {
     "name": "stdout",
     "output_type": "stream",
     "text": [
      "<function recall_score at 0x000001ACBA4E44A0>\n"
     ]
    }
   ],
   "source": [
    "recal=recall_score(y_tst,y1_predict,average='weighted')\n",
    "print(recall_score)"
   ]
  },
  {
   "cell_type": "code",
   "execution_count": 149,
   "id": "9a93f479-5bdb-46b2-b8ab-16ab3e4d7a3c",
   "metadata": {},
   "outputs": [],
   "source": [
    "# pres= Vertical : Correct classified / sum of all vertival values\\\n",
    "# recall :  correct/ all horozontal values\n",
    "# F1 score = 2 * Pre * Recall / (Precesion +Recall)=Harmonic mea of precision and recall"
   ]
  },
  {
   "cell_type": "code",
   "execution_count": null,
   "id": "60945d84-24c2-4324-82b5-3aed2236f727",
   "metadata": {},
   "outputs": [],
   "source": []
  }
 ],
 "metadata": {
  "kernelspec": {
   "display_name": "Python 3 (ipykernel)",
   "language": "python",
   "name": "python3"
  },
  "language_info": {
   "codemirror_mode": {
    "name": "ipython",
    "version": 3
   },
   "file_extension": ".py",
   "mimetype": "text/x-python",
   "name": "python",
   "nbconvert_exporter": "python",
   "pygments_lexer": "ipython3",
   "version": "3.11.4"
  }
 },
 "nbformat": 4,
 "nbformat_minor": 5
}
